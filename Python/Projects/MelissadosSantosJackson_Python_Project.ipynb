{
 "cells": [
  {
   "cell_type": "markdown",
   "id": "08e2d99c",
   "metadata": {},
   "source": [
    "# Python project\n",
    "\n",
    "The information given was the column titles and questions to be answered.\n",
    "\n",
    "Column titles and descriptions:\n",
    "\n",
    "1. Category: The category to which this IMU belongs. \n",
    "2. Manufacturer: Name of the manufacturer. \n",
    "3. part_number: Discrete part number \n",
    "4. sku: stock keeping unit \n",
    "5. alt_sku: alternate stock keeping unit \n",
    "6. Description: description of the product \n",
    "7. Status: Whether it is instock or not \n",
    "8. Quantity: Quantity available \n",
    "9. Price: Price of the product \n",
    "10. sku_create_date: when was the product procured.\n",
    "\n",
    "Below are the questions to be answered for this project:\n",
    "\n",
    "For data In Stock: \n",
    "\n",
    "1. Which are the top Manufacturers with price, quantity?\n",
    "2. Which are the most profitable products? \n",
    "3. Which is the product where you have seen a decrease in the price? \n",
    "4. Which is the product where you have seen an increase in the price? \n",
    "5. Which is the top category by price and quantity? \n",
    "6. Which products are aging? \n",
    "7. How to Decrease Product aging? \n",
    "\n",
    "For Data Not in Stock \n",
    "\n",
    "8. Which are the top Manufacturers with price, quantity? \n",
    "9. Which are the most profitable products? \n",
    "10. Which is the product where you have seen a decrease in the price? \n",
    "11. Which is the product where you have seen an increase in the price? \n",
    "12. Which is the top category by price and quantity?\n",
    "\n"
   ]
  },
  {
   "cell_type": "markdown",
   "id": "fec16299",
   "metadata": {},
   "source": [
    "**Firstly we must import dataset, then analyse and clean it.**"
   ]
  },
  {
   "cell_type": "code",
   "execution_count": 1,
   "id": "a62804e3",
   "metadata": {},
   "outputs": [
    {
     "name": "stdout",
     "output_type": "stream",
     "text": [
      "         category                manufacturer part_number     sku alt_sku  \\\n",
      "0            1539  MS-OPEN VALUE SUBSCRIPTION   021-09108  BA0011     NaN   \n",
      "1            1539  MS-OPEN VALUE SUBSCRIPTION   059-07014  BA0025     NaN   \n",
      "2            1539  MS-OPEN VALUE SUBSCRIPTION   065-06444  BA0039     NaN   \n",
      "3            1539  MS-OPEN VALUE SUBSCRIPTION   076-04355  BA0067     NaN   \n",
      "4            1582  MS-OPEN VALUE SUBSCRIPTION   077-05318  BA0080     NaN   \n",
      "...           ...                         ...         ...     ...     ...   \n",
      "2627921      9945        VERBATIM CORPORATION       93975  986034     NaN   \n",
      "2627922      9945        VERBATIM CORPORATION       93975  986034     NaN   \n",
      "2627923      9945        VERBATIM CORPORATION       93975  986034     NaN   \n",
      "2627924      9945        VERBATIM CORPORATION       93975  986034     NaN   \n",
      "2627925      9945        VERBATIM CORPORATION       93975  986034     NaN   \n",
      "\n",
      "                                               description    status  qty  \\\n",
      "0                     1YR OFFICESTD ALNG LICSAPK OLV, D AP  No Stock    0   \n",
      "1                          1YR WORD ALNG LICSAPK OLV D AP,  No Stock    0   \n",
      "2                         1YR EXCEL ALNG LICSAPK OLV D AP,  No Stock    0   \n",
      "3                         1YR PRJCT ALNG LICSAPK OLV D AP,  No Stock    0   \n",
      "4                        1YR ACCESS ALNG LICSAPK OLV D, AP  No Stock    0   \n",
      "...                                                    ...       ...  ...   \n",
      "2627921  CD & DVD TRIMPAK CASES 200PK, CLEAR FLEXIBLE P...  In Stock   12   \n",
      "2627922  CD & DVD TRIMPAK CASES 200PK, CLEAR FLEXIBLE P...  In Stock   12   \n",
      "2627923  CD & DVD TRIMPAK CASES 200PK, CLEAR FLEXIBLE P...  In Stock   12   \n",
      "2627924  CD & DVD TRIMPAK CASES 200PK, CLEAR FLEXIBLE P...  In Stock   12   \n",
      "2627925  CD & DVD TRIMPAK CASES 200PK, CLEAR FLEXIBLE P...  In Stock   12   \n",
      "\n",
      "          price sku_create_date  \n",
      "0        143.58      2020-08-17  \n",
      "1         56.09      2020-08-17  \n",
      "2         56.09      2020-08-17  \n",
      "3        217.60      2020-08-17  \n",
      "4         56.09      2020-08-17  \n",
      "...         ...             ...  \n",
      "2627921   50.53      2020-08-28  \n",
      "2627922   50.53      2020-08-28  \n",
      "2627923   50.53      2020-08-28  \n",
      "2627924   50.53      2020-08-28  \n",
      "2627925   50.53      2020-08-28  \n",
      "\n",
      "[2627926 rows x 10 columns]\n"
     ]
    }
   ],
   "source": [
    "import pandas as pd\n",
    "df = pd.concat(pd.read_excel(r'C:\\Users\\melis\\OneDrive\\Documents\\imus.xlsx', sheet_name = None), ignore_index=True)#required to read all sheets\n",
    "print(df)"
   ]
  },
  {
   "cell_type": "code",
   "execution_count": 2,
   "id": "e91d5327",
   "metadata": {},
   "outputs": [
    {
     "data": {
      "text/html": [
       "<div>\n",
       "<style scoped>\n",
       "    .dataframe tbody tr th:only-of-type {\n",
       "        vertical-align: middle;\n",
       "    }\n",
       "\n",
       "    .dataframe tbody tr th {\n",
       "        vertical-align: top;\n",
       "    }\n",
       "\n",
       "    .dataframe thead th {\n",
       "        text-align: right;\n",
       "    }\n",
       "</style>\n",
       "<table border=\"1\" class=\"dataframe\">\n",
       "  <thead>\n",
       "    <tr style=\"text-align: right;\">\n",
       "      <th></th>\n",
       "      <th>category</th>\n",
       "      <th>manufacturer</th>\n",
       "      <th>part_number</th>\n",
       "      <th>sku</th>\n",
       "      <th>alt_sku</th>\n",
       "      <th>description</th>\n",
       "      <th>status</th>\n",
       "      <th>qty</th>\n",
       "      <th>price</th>\n",
       "      <th>sku_create_date</th>\n",
       "    </tr>\n",
       "  </thead>\n",
       "  <tbody>\n",
       "    <tr>\n",
       "      <th>0</th>\n",
       "      <td>1539</td>\n",
       "      <td>MS-OPEN VALUE SUBSCRIPTION</td>\n",
       "      <td>021-09108</td>\n",
       "      <td>BA0011</td>\n",
       "      <td>NaN</td>\n",
       "      <td>1YR OFFICESTD ALNG LICSAPK OLV, D AP</td>\n",
       "      <td>No Stock</td>\n",
       "      <td>0</td>\n",
       "      <td>143.58</td>\n",
       "      <td>2020-08-17</td>\n",
       "    </tr>\n",
       "    <tr>\n",
       "      <th>1</th>\n",
       "      <td>1539</td>\n",
       "      <td>MS-OPEN VALUE SUBSCRIPTION</td>\n",
       "      <td>059-07014</td>\n",
       "      <td>BA0025</td>\n",
       "      <td>NaN</td>\n",
       "      <td>1YR WORD ALNG LICSAPK OLV D AP,</td>\n",
       "      <td>No Stock</td>\n",
       "      <td>0</td>\n",
       "      <td>56.09</td>\n",
       "      <td>2020-08-17</td>\n",
       "    </tr>\n",
       "    <tr>\n",
       "      <th>2</th>\n",
       "      <td>1539</td>\n",
       "      <td>MS-OPEN VALUE SUBSCRIPTION</td>\n",
       "      <td>065-06444</td>\n",
       "      <td>BA0039</td>\n",
       "      <td>NaN</td>\n",
       "      <td>1YR EXCEL ALNG LICSAPK OLV D AP,</td>\n",
       "      <td>No Stock</td>\n",
       "      <td>0</td>\n",
       "      <td>56.09</td>\n",
       "      <td>2020-08-17</td>\n",
       "    </tr>\n",
       "    <tr>\n",
       "      <th>3</th>\n",
       "      <td>1539</td>\n",
       "      <td>MS-OPEN VALUE SUBSCRIPTION</td>\n",
       "      <td>076-04355</td>\n",
       "      <td>BA0067</td>\n",
       "      <td>NaN</td>\n",
       "      <td>1YR PRJCT ALNG LICSAPK OLV D AP,</td>\n",
       "      <td>No Stock</td>\n",
       "      <td>0</td>\n",
       "      <td>217.60</td>\n",
       "      <td>2020-08-17</td>\n",
       "    </tr>\n",
       "    <tr>\n",
       "      <th>4</th>\n",
       "      <td>1582</td>\n",
       "      <td>MS-OPEN VALUE SUBSCRIPTION</td>\n",
       "      <td>077-05318</td>\n",
       "      <td>BA0080</td>\n",
       "      <td>NaN</td>\n",
       "      <td>1YR ACCESS ALNG LICSAPK OLV D, AP</td>\n",
       "      <td>No Stock</td>\n",
       "      <td>0</td>\n",
       "      <td>56.09</td>\n",
       "      <td>2020-08-17</td>\n",
       "    </tr>\n",
       "    <tr>\n",
       "      <th>5</th>\n",
       "      <td>1539</td>\n",
       "      <td>MS-OPEN VALUE SUBSCRIPTION</td>\n",
       "      <td>079-04668</td>\n",
       "      <td>BA0095</td>\n",
       "      <td>NaN</td>\n",
       "      <td>1YR PWRPOINT ALNG LICSAPK OLV D, AP</td>\n",
       "      <td>No Stock</td>\n",
       "      <td>0</td>\n",
       "      <td>56.09</td>\n",
       "      <td>2020-08-17</td>\n",
       "    </tr>\n",
       "    <tr>\n",
       "      <th>6</th>\n",
       "      <td>1539</td>\n",
       "      <td>MS-OPEN VALUE SUBSCRIPTION</td>\n",
       "      <td>125-00511</td>\n",
       "      <td>BA0224</td>\n",
       "      <td>NaN</td>\n",
       "      <td>1YR VSTEAMFNDTNSVR ALNG LICSAPK, OLV D AP</td>\n",
       "      <td>No Stock</td>\n",
       "      <td>0</td>\n",
       "      <td>125.15</td>\n",
       "      <td>2020-08-17</td>\n",
       "    </tr>\n",
       "    <tr>\n",
       "      <th>7</th>\n",
       "      <td>1539</td>\n",
       "      <td>MS-OPEN VALUE SUBSCRIPTION</td>\n",
       "      <td>126-01023</td>\n",
       "      <td>BA0249</td>\n",
       "      <td>NaN</td>\n",
       "      <td>1YR VSTEAMFNDTNSVRCAL ALNG, LICSAPK OLV D AP D...</td>\n",
       "      <td>No Stock</td>\n",
       "      <td>0</td>\n",
       "      <td>124.76</td>\n",
       "      <td>2020-08-17</td>\n",
       "    </tr>\n",
       "    <tr>\n",
       "      <th>8</th>\n",
       "      <td>1539</td>\n",
       "      <td>MS-OPEN VALUE SUBSCRIPTION</td>\n",
       "      <td>126-01024</td>\n",
       "      <td>BA0250</td>\n",
       "      <td>NaN</td>\n",
       "      <td>1YR VSTEAMFNDTNSVRCAL ALNG, LICSAPK OLV D AP U...</td>\n",
       "      <td>No Stock</td>\n",
       "      <td>0</td>\n",
       "      <td>143.58</td>\n",
       "      <td>2020-08-17</td>\n",
       "    </tr>\n",
       "    <tr>\n",
       "      <th>9</th>\n",
       "      <td>1539</td>\n",
       "      <td>MS-OPEN VALUE SUBSCRIPTION</td>\n",
       "      <td>164-05581</td>\n",
       "      <td>BA0291</td>\n",
       "      <td>NaN</td>\n",
       "      <td>1YR PBLSHR ALNG LICSAPK OLV D, AP</td>\n",
       "      <td>No Stock</td>\n",
       "      <td>0</td>\n",
       "      <td>56.09</td>\n",
       "      <td>2020-08-17</td>\n",
       "    </tr>\n",
       "  </tbody>\n",
       "</table>\n",
       "</div>"
      ],
      "text/plain": [
       "   category                manufacturer part_number     sku alt_sku  \\\n",
       "0      1539  MS-OPEN VALUE SUBSCRIPTION   021-09108  BA0011     NaN   \n",
       "1      1539  MS-OPEN VALUE SUBSCRIPTION   059-07014  BA0025     NaN   \n",
       "2      1539  MS-OPEN VALUE SUBSCRIPTION   065-06444  BA0039     NaN   \n",
       "3      1539  MS-OPEN VALUE SUBSCRIPTION   076-04355  BA0067     NaN   \n",
       "4      1582  MS-OPEN VALUE SUBSCRIPTION   077-05318  BA0080     NaN   \n",
       "5      1539  MS-OPEN VALUE SUBSCRIPTION   079-04668  BA0095     NaN   \n",
       "6      1539  MS-OPEN VALUE SUBSCRIPTION   125-00511  BA0224     NaN   \n",
       "7      1539  MS-OPEN VALUE SUBSCRIPTION   126-01023  BA0249     NaN   \n",
       "8      1539  MS-OPEN VALUE SUBSCRIPTION   126-01024  BA0250     NaN   \n",
       "9      1539  MS-OPEN VALUE SUBSCRIPTION   164-05581  BA0291     NaN   \n",
       "\n",
       "                                         description    status  qty   price  \\\n",
       "0               1YR OFFICESTD ALNG LICSAPK OLV, D AP  No Stock    0  143.58   \n",
       "1                    1YR WORD ALNG LICSAPK OLV D AP,  No Stock    0   56.09   \n",
       "2                   1YR EXCEL ALNG LICSAPK OLV D AP,  No Stock    0   56.09   \n",
       "3                   1YR PRJCT ALNG LICSAPK OLV D AP,  No Stock    0  217.60   \n",
       "4                  1YR ACCESS ALNG LICSAPK OLV D, AP  No Stock    0   56.09   \n",
       "5                1YR PWRPOINT ALNG LICSAPK OLV D, AP  No Stock    0   56.09   \n",
       "6          1YR VSTEAMFNDTNSVR ALNG LICSAPK, OLV D AP  No Stock    0  125.15   \n",
       "7  1YR VSTEAMFNDTNSVRCAL ALNG, LICSAPK OLV D AP D...  No Stock    0  124.76   \n",
       "8  1YR VSTEAMFNDTNSVRCAL ALNG, LICSAPK OLV D AP U...  No Stock    0  143.58   \n",
       "9                  1YR PBLSHR ALNG LICSAPK OLV D, AP  No Stock    0   56.09   \n",
       "\n",
       "  sku_create_date  \n",
       "0      2020-08-17  \n",
       "1      2020-08-17  \n",
       "2      2020-08-17  \n",
       "3      2020-08-17  \n",
       "4      2020-08-17  \n",
       "5      2020-08-17  \n",
       "6      2020-08-17  \n",
       "7      2020-08-17  \n",
       "8      2020-08-17  \n",
       "9      2020-08-17  "
      ]
     },
     "execution_count": 2,
     "metadata": {},
     "output_type": "execute_result"
    }
   ],
   "source": [
    "df.head(10)"
   ]
  },
  {
   "cell_type": "code",
   "execution_count": 3,
   "id": "eeea3cf8",
   "metadata": {},
   "outputs": [
    {
     "data": {
      "text/plain": [
       "(2627926, 10)"
      ]
     },
     "execution_count": 3,
     "metadata": {},
     "output_type": "execute_result"
    }
   ],
   "source": [
    "df.shape #gives number of rows and columns"
   ]
  },
  {
   "cell_type": "code",
   "execution_count": 4,
   "id": "7afd74d7",
   "metadata": {},
   "outputs": [
    {
     "name": "stdout",
     "output_type": "stream",
     "text": [
      "<class 'pandas.core.frame.DataFrame'>\n",
      "RangeIndex: 2627926 entries, 0 to 2627925\n",
      "Data columns (total 10 columns):\n",
      " #   Column           Dtype         \n",
      "---  ------           -----         \n",
      " 0   category         int64         \n",
      " 1   manufacturer     object        \n",
      " 2   part_number      object        \n",
      " 3   sku              object        \n",
      " 4   alt_sku          object        \n",
      " 5   description      object        \n",
      " 6   status           object        \n",
      " 7   qty              int64         \n",
      " 8   price            float64       \n",
      " 9   sku_create_date  datetime64[ns]\n",
      "dtypes: datetime64[ns](1), float64(1), int64(2), object(6)\n",
      "memory usage: 200.5+ MB\n"
     ]
    }
   ],
   "source": [
    "df.info()#look into data types for each column"
   ]
  },
  {
   "cell_type": "code",
   "execution_count": 5,
   "id": "7f8c6ca8",
   "metadata": {},
   "outputs": [],
   "source": [
    "missingvalues=df.isnull().sum()#check total missing values for each column on the data frame"
   ]
  },
  {
   "cell_type": "code",
   "execution_count": 6,
   "id": "cc7e240a",
   "metadata": {},
   "outputs": [
    {
     "data": {
      "text/plain": [
       "category           0.000000\n",
       "manufacturer       0.000000\n",
       "part_number        0.000000\n",
       "sku                0.000000\n",
       "alt_sku            0.994488\n",
       "description        0.000000\n",
       "status             0.000000\n",
       "qty                0.000000\n",
       "price              0.000000\n",
       "sku_create_date    0.000000\n",
       "dtype: float64"
      ]
     },
     "execution_count": 6,
     "metadata": {},
     "output_type": "execute_result"
    }
   ],
   "source": [
    "missingvalues/ len(df)#percentage of values missing"
   ]
  },
  {
   "cell_type": "code",
   "execution_count": 7,
   "id": "72a184ee",
   "metadata": {},
   "outputs": [
    {
     "data": {
      "text/plain": [
       "category              153\n",
       "manufacturer         1484\n",
       "part_number        334574\n",
       "sku                379112\n",
       "alt_sku              2079\n",
       "description        339222\n",
       "status                  2\n",
       "qty                  2618\n",
       "price              122688\n",
       "sku_create_date        10\n",
       "dtype: int64"
      ]
     },
     "execution_count": 7,
     "metadata": {},
     "output_type": "execute_result"
    }
   ],
   "source": [
    " df.nunique()"
   ]
  },
  {
   "cell_type": "code",
   "execution_count": 8,
   "id": "324baa1f",
   "metadata": {},
   "outputs": [
    {
     "name": "stdout",
     "output_type": "stream",
     "text": [
      "category           0.999942\n",
      "manufacturer       0.999435\n",
      "part_number        0.872685\n",
      "sku                0.855737\n",
      "alt_sku            0.999209\n",
      "description        0.870916\n",
      "status             0.999999\n",
      "qty                0.999004\n",
      "price              0.953314\n",
      "sku_create_date    0.999996\n",
      "dtype: float64\n"
     ]
    }
   ],
   "source": [
    "percentageduplicates=(len(df) - df.nunique())/len(df)#duplicates per column\n",
    "print(percentageduplicates)"
   ]
  },
  {
   "cell_type": "markdown",
   "id": "a4e1c2ba",
   "metadata": {},
   "source": [
    "As can be seen above, column alt_sku is missing 99.6% of the values and therefore it must be removed. We can also see that all columns have above 90% duplicates. However, this is due to the nature of the data. Therefore, at this moment, the duplicates have not been removed. \n",
    "It can aso be seen above tha there are 153 categories and 1484 manufacturers."
   ]
  },
  {
   "cell_type": "code",
   "execution_count": 9,
   "id": "c7e60704",
   "metadata": {},
   "outputs": [],
   "source": [
    "df=df.drop(['alt_sku'], axis=1)#this column has too many missing values"
   ]
  },
  {
   "cell_type": "code",
   "execution_count": 10,
   "id": "344c34ac",
   "metadata": {},
   "outputs": [],
   "source": [
    "df = df.drop_duplicates()"
   ]
  },
  {
   "cell_type": "code",
   "execution_count": 11,
   "id": "42cd0ecd",
   "metadata": {},
   "outputs": [
    {
     "data": {
      "text/plain": [
       "(1105970, 9)"
      ]
     },
     "execution_count": 11,
     "metadata": {},
     "output_type": "execute_result"
    }
   ],
   "source": [
    "df.shape"
   ]
  },
  {
   "cell_type": "code",
   "execution_count": 12,
   "id": "ca149af5",
   "metadata": {},
   "outputs": [],
   "source": [
    "df[\"revenue\"] = df[\"price\"] * df[\"qty\"]#need to create new variable for profitability which is revenue-cost of product.\n",
    "#We do not have cost of product and therefore only revenue can be used."
   ]
  },
  {
   "cell_type": "code",
   "execution_count": 13,
   "id": "586d5689",
   "metadata": {},
   "outputs": [
    {
     "name": "stdout",
     "output_type": "stream",
     "text": [
      "     category                    manufacturer         part_number     sku  \\\n",
      "253      9920  CASE LOGIC-PERSONAL & PORTABLE             3200943  BA6371   \n",
      "271       531                OMNITRON SYSTEMS              7206-0  BA6834   \n",
      "320      9070         ZEBRA ENTERPRISE MCD-A1       SAC5070-800CR  BC0227   \n",
      "324      9080         ZEBRA ENTERPRISE MCD-A1  KT-CLMPT-RS507-01R  BC0232   \n",
      "326      9080         ZEBRA ENTERPRISE MCD-A1    KT-PAD-RS507-10R  BC0234   \n",
      "327      9080         ZEBRA ENTERPRISE MCD-A1  KT-STRPT-RS507-10R  BC0235   \n",
      "328      9080         ZEBRA ENTERPRISE MCD-A1    KT-BKL-RS507-10R  BC0237   \n",
      "330      9045                       MAGTEK NR            22523009  BC0283   \n",
      "335      9070         ZEBRA ENTERPRISE MCD-A1           WA3017-G2  BC0389   \n",
      "339      9070         ZEBRA ENTERPRISE MCD-A1        11-08062-02R  BC0437   \n",
      "\n",
      "                                           description    status  qty   price  \\\n",
      "253  LAPTOP ROLLING CASE BLACK, SECURITY FRIENDLY 17IN  In Stock    7   99.00   \n",
      "271  1000BASE-SX SFP LC/MM/DF 850NM, 550M PLUGGABLE...  In Stock    2   59.09   \n",
      "320  RS507 8SLOT BATTERY CHARGE KIT, EXT PWR SUPL/U...  In Stock    3  500.06   \n",
      "324  RS507 TRIGGER SWIVEL DOES NOT, INCLUDE STRAP/B...  In Stock  115   86.34   \n",
      "326                      10 CT COMFORT PADS FOR RS507,  In Stock   42   51.80   \n",
      "327  10PK REPL STRAPS FOR RS507, MANUAL TRIGGERED C...  In Stock  172   45.59   \n",
      "328                     10 CT STRAP BUCKELS FOR RS507,  In Stock    4   17.96   \n",
      "330  MINIMICR USB KYBD EMULATION, INCLUDES POWER SP...  In Stock   21  193.70   \n",
      "335                   DOOR FOR HIGH CAP BATT 7527C-G2,  In Stock    3   12.43   \n",
      "339  UNIV BELT FOR HOLSTER MC30 MC90, MC9190-G MC31...  In Stock   40   25.56   \n",
      "\n",
      "    sku_create_date  revenue  \n",
      "253      2020-08-17   693.00  \n",
      "271      2020-08-17   118.18  \n",
      "320      2020-08-17  1500.18  \n",
      "324      2020-08-17  9929.10  \n",
      "326      2020-08-17  2175.60  \n",
      "327      2020-08-17  7841.48  \n",
      "328      2020-08-17    71.84  \n",
      "330      2020-08-17  4067.70  \n",
      "335      2020-08-17    37.29  \n",
      "339      2020-08-17  1022.40  \n"
     ]
    },
    {
     "data": {
      "text/plain": [
       "(156814, 10)"
      ]
     },
     "execution_count": 13,
     "metadata": {},
     "output_type": "execute_result"
    }
   ],
   "source": [
    "instockdf=df.loc[df['status'] == 'In Stock']#filter to get values in stock\n",
    "print(instockdf.head(10))\n",
    "instockdf.shape"
   ]
  },
  {
   "cell_type": "code",
   "execution_count": 14,
   "id": "a58453a7",
   "metadata": {},
   "outputs": [
    {
     "name": "stdout",
     "output_type": "stream",
     "text": [
      "   category                manufacturer part_number     sku  \\\n",
      "0      1539  MS-OPEN VALUE SUBSCRIPTION   021-09108  BA0011   \n",
      "1      1539  MS-OPEN VALUE SUBSCRIPTION   059-07014  BA0025   \n",
      "2      1539  MS-OPEN VALUE SUBSCRIPTION   065-06444  BA0039   \n",
      "3      1539  MS-OPEN VALUE SUBSCRIPTION   076-04355  BA0067   \n",
      "4      1582  MS-OPEN VALUE SUBSCRIPTION   077-05318  BA0080   \n",
      "5      1539  MS-OPEN VALUE SUBSCRIPTION   079-04668  BA0095   \n",
      "6      1539  MS-OPEN VALUE SUBSCRIPTION   125-00511  BA0224   \n",
      "7      1539  MS-OPEN VALUE SUBSCRIPTION   126-01023  BA0249   \n",
      "8      1539  MS-OPEN VALUE SUBSCRIPTION   126-01024  BA0250   \n",
      "9      1539  MS-OPEN VALUE SUBSCRIPTION   164-05581  BA0291   \n",
      "\n",
      "                                         description    status  qty   price  \\\n",
      "0               1YR OFFICESTD ALNG LICSAPK OLV, D AP  No Stock    0  143.58   \n",
      "1                    1YR WORD ALNG LICSAPK OLV D AP,  No Stock    0   56.09   \n",
      "2                   1YR EXCEL ALNG LICSAPK OLV D AP,  No Stock    0   56.09   \n",
      "3                   1YR PRJCT ALNG LICSAPK OLV D AP,  No Stock    0  217.60   \n",
      "4                  1YR ACCESS ALNG LICSAPK OLV D, AP  No Stock    0   56.09   \n",
      "5                1YR PWRPOINT ALNG LICSAPK OLV D, AP  No Stock    0   56.09   \n",
      "6          1YR VSTEAMFNDTNSVR ALNG LICSAPK, OLV D AP  No Stock    0  125.15   \n",
      "7  1YR VSTEAMFNDTNSVRCAL ALNG, LICSAPK OLV D AP D...  No Stock    0  124.76   \n",
      "8  1YR VSTEAMFNDTNSVRCAL ALNG, LICSAPK OLV D AP U...  No Stock    0  143.58   \n",
      "9                  1YR PBLSHR ALNG LICSAPK OLV D, AP  No Stock    0   56.09   \n",
      "\n",
      "  sku_create_date  revenue  \n",
      "0      2020-08-17      0.0  \n",
      "1      2020-08-17      0.0  \n",
      "2      2020-08-17      0.0  \n",
      "3      2020-08-17      0.0  \n",
      "4      2020-08-17      0.0  \n",
      "5      2020-08-17      0.0  \n",
      "6      2020-08-17      0.0  \n",
      "7      2020-08-17      0.0  \n",
      "8      2020-08-17      0.0  \n",
      "9      2020-08-17      0.0  \n"
     ]
    },
    {
     "data": {
      "text/plain": [
       "(949156, 10)"
      ]
     },
     "execution_count": 14,
     "metadata": {},
     "output_type": "execute_result"
    }
   ],
   "source": [
    "nostockdf=df.loc[df['status'] == 'No Stock']#filter to get values not in stock\n",
    "print(nostockdf.head(10))\n",
    "nostockdf.shape"
   ]
  },
  {
   "cell_type": "markdown",
   "id": "1024103b",
   "metadata": {},
   "source": [
    "Now we can begin to answer the problem questions."
   ]
  },
  {
   "cell_type": "markdown",
   "id": "12b1b007",
   "metadata": {},
   "source": [
    "## Analysis of products in stock"
   ]
  },
  {
   "cell_type": "code",
   "execution_count": 44,
   "id": "e176294b",
   "metadata": {},
   "outputs": [
    {
     "name": "stdout",
     "output_type": "stream",
     "text": [
      "TOP 5 MANUFACTURERS WITH THE HIGHEST PRICE\n",
      "1199874          HPE - SWITCHING\n",
      "2620934         HPE - NIMBLE BTO\n",
      "1203979      HPE - ARUBA INSTANT\n",
      "1127383             PULSE SECURE\n",
      "1017049    MELLANOX TECHNOLOGIES\n",
      "Name: manufacturer, dtype: object\n",
      "************************************************************************************************************************\n",
      "TOP 5 MANUFACTURERS PROVIDING HIGHEST QUANTITY\n",
      "2364017    DELL CSG SERVICE WARRANTIES\n",
      "668949                             TMS\n",
      "1698155                       CONFIG 6\n",
      "2477656            DELL ESG WARRANTIES\n",
      "785899                  MICROSOFT- ESD\n",
      "Name: manufacturer, dtype: object\n",
      "************************************************************************************************************************\n",
      "TOP 5 MOST PROFITABLE PRODUCT\n",
      "manufacturer\n",
      "DELL CSG SERVICE WARRANTIES      2.308292e+09\n",
      "DELL ESG WARRANTIES              2.010732e+09\n",
      "HP INC. - SB NOTEBOOKS           2.492580e+08\n",
      "MICROSOFT- ESD                   1.588981e+08\n",
      "HP INC. - SB DESKTOP DISPLAYS    1.475695e+08\n",
      "Name: revenue, dtype: float64\n",
      "************************************************************************************************************************\n",
      "PRODUCT WITH PRICE DECREASE\n",
      "1758698    OPTIFIBER PRO QUAD OTDR V2 W/, INSPECTION & WIFI\n",
      "Name: description, dtype: object\n",
      "************************************************************************************************************************\n",
      "PRODUCT WITH PRICE INCREASE\n",
      "1890636    5YR PROSUPPORT PLUS,\n",
      "Name: description, dtype: object\n",
      "************************************************************************************************************************\n",
      "TOP CATEGORY FOR PRICE 521\n",
      "************************************************************************************************************************\n",
      "TOP CATEGORY FOR QUANTITY 1221\n",
      "************************************************************************************************************************\n"
     ]
    },
    {
     "name": "stderr",
     "output_type": "stream",
     "text": [
      "<ipython-input-44-397809cb237e>:15: SettingWithCopyWarning: \n",
      "A value is trying to be set on a copy of a slice from a DataFrame.\n",
      "Try using .loc[row_indexer,col_indexer] = value instead\n",
      "\n",
      "See the caveats in the documentation: https://pandas.pydata.org/pandas-docs/stable/user_guide/indexing.html#returning-a-view-versus-a-copy\n",
      "  instockdf['price_difference'] = instockdf.sort_values('sku_create_date').groupby('description')['price'].diff().fillna(0)\n"
     ]
    }
   ],
   "source": [
    "#Which are the top Manufacturers with price, quantity?\n",
    "print(\"TOP 5 MANUFACTURERS WITH THE HIGHEST PRICE\")\n",
    "print(instockdf.sort_values(by =['price'] , ascending=False)['manufacturer'].drop_duplicates().head(5))\n",
    "print(\"****\" * 30)\n",
    "\n",
    "print(\"TOP 5 MANUFACTURERS PROVIDING HIGHEST QUANTITY\")\n",
    "print(instockdf.sort_values(by =['qty'] , ascending=False)['manufacturer'].drop_duplicates().head(5))\n",
    "print(\"****\" * 30)\n",
    "\n",
    "#Which are the most profitable products?\n",
    "print(\"TOP 5 MOST PROFITABLE PRODUCT\")\n",
    "print(instockdf.groupby(['manufacturer'])['revenue'].sum().sort_values(ascending=False).head(5))\n",
    "print(\"****\" * 30)\n",
    "#create a new column which shows the difference in price from day to day\n",
    "instockdf['price_difference'] = instockdf.sort_values('sku_create_date').groupby('description')['price'].diff().fillna(0) \n",
    "\n",
    "#Which is the product where you have seen a decrease in the price?\n",
    "print(\"PRODUCT WITH PRICE DECREASE\")\n",
    "price_decrease=instockdf[instockdf['price_difference'] < 0.0].sort_values(by ='price_difference').head(1)\n",
    "print(price_decrease['description'])\n",
    "print(\"****\" * 30)\n",
    "\n",
    "#Which is the product where you have seen an increase in the price?\n",
    "print(\"PRODUCT WITH PRICE INCREASE\")\n",
    "price_increase=instockdf[instockdf['price_difference'] > 0.0].sort_values(by ='price_difference',ascending=False).head(1)\n",
    "print(price_increase['description'])\n",
    "print(\"****\" * 30)\n",
    "\n",
    "#Which is the top category by price and quantity\n",
    "print(\"TOP CATEGORY FOR PRICE\", instockdf.sort_values(by = 'price', ascending=False).groupby(\"category\").head(1)[\"category\"].values[0])\n",
    "\n",
    "print(\"****\" * 30)\n",
    "\n",
    "print(\"TOP CATEGORY FOR QUANTITY\", instockdf.sort_values(by = 'qty', ascending=False).groupby(\"category\").head(1)[\"category\"].values[0])\n",
    "print(\"****\" * 30)\n",
    "\n"
   ]
  },
  {
   "cell_type": "markdown",
   "id": "daa84d7a",
   "metadata": {},
   "source": [
    "Need to determine which products have been there the longest therefore must subtract date in from the last date in the data."
   ]
  },
  {
   "cell_type": "code",
   "execution_count": 35,
   "id": "5ef82090",
   "metadata": {},
   "outputs": [
    {
     "name": "stdout",
     "output_type": "stream",
     "text": [
      "PRODUCT AGING\n"
     ]
    }
   ],
   "source": [
    "#Which product are aging?\n",
    "print(\"PRODUCT AGING\")\n",
    "df_in_stock = df[df[\"status\"] == \"In Stock\"]\n",
    "\n",
    "products_in_stock = list(set(df_in_stock['description']))\n",
    "products_aged=pd.DataFrame(columns = [\"Product\", \"Age\"])\n",
    "\n",
    "for i in products_in_stock:\n",
    "    first_col = df_in_stock[df_in_stock['description'] == i]\n",
    "    date1 = first_col.sku_create_date.min()\n",
    "    date2 = first_col.sku_create_date.max()\n",
    "    age = (date2-date1).days\n",
    "    products_aged = products_aged.append({\"Product\" : i, \"Age\" : age}, ignore_index = True)\n"
   ]
  },
  {
   "cell_type": "code",
   "execution_count": 36,
   "id": "23e6d963",
   "metadata": {},
   "outputs": [
    {
     "name": "stdout",
     "output_type": "stream",
     "text": [
      "Total number of aged products:  13144\n",
      "Total number of products:  30574\n",
      "Percentage of aged products 42.99 %\n"
     ]
    }
   ],
   "source": [
    "aging_products = products_aged[products_aged['Age']>7]\n",
    "print(\"Total number of aged products: \", len(aging_products[\"Product\"]))\n",
    "print(\"Total number of products: \", len(products_in_stock))\n",
    "\n",
    "print(\"Percentage of aged products\", round((len(aging_products[\"Product\"]) * 100) / len(products_aged),2), \"%\"  )"
   ]
  },
  {
   "cell_type": "code",
   "execution_count": 39,
   "id": "36163d4f",
   "metadata": {},
   "outputs": [
    {
     "name": "stdout",
     "output_type": "stream",
     "text": [
      "                                                 Product Age\n",
      "15198  ENS202EXT 11BGN 300MB 2.4GHZ, WPA WPA2 DETACHA...  11\n",
      "15685        RJ45 10GBPS SFP+ TRANS MODULE, SFP+ TO RJ45  11\n",
      "15829  6FT 3-SLOT AC POWER REPLACEMENT, F NOTEBOOKS I...  11\n",
      "15820                               LIVE GAMER 4K GC573,  11\n",
      "15817  3FT CAT6 PATCH CABLE SLIM BLUE, GIGABIT MOLDED...  11\n",
      "15815  78KEY SLIM MINI USB KEYBOARD, INTEGRATED MULTI...  11\n",
      "15810                     BLACKWIRE C5210 USB-A BULK-WW,  11\n",
      "15807  DELL SNPTN78YC/32G COMP RDIMM, 32G DDR4-2666MH...  11\n",
      "15805  WASP BARCODE CCD SCANNER FOR PC, WCS3900 W/6FT...  11\n",
      "15803  4TB USB 3.0/3.1 GEN 1 7200 RPM, EXT HDD ALUMIN...  11\n"
     ]
    }
   ],
   "source": [
    "print(aging_products.sort_values(by='Age',ascending= False).head(10))"
   ]
  },
  {
   "cell_type": "markdown",
   "id": "a2779d97",
   "metadata": {},
   "source": [
    "In order to reduce aging the company can:\n",
    "- Sales or offers \n",
    "- Upselling \n",
    "- liquidate inventory\n",
    "- donate aged stock"
   ]
  },
  {
   "cell_type": "markdown",
   "id": "1922b133",
   "metadata": {},
   "source": [
    "## Analysis for products not in stock"
   ]
  },
  {
   "cell_type": "code",
   "execution_count": 47,
   "id": "ae5dacd7",
   "metadata": {
    "scrolled": true
   },
   "outputs": [
    {
     "name": "stdout",
     "output_type": "stream",
     "text": [
      "TOP 5 MANUFACTURERS WITH THE HIGHEST PRICE\n",
      "1046052                         ALTNET\n",
      "973610            JUNIPER ROW SERVICES\n",
      "997704      JUNIPER ENTERPRISE ROUTING\n",
      "1653726         CISCO - CCW MULTI YEAR\n",
      "971703     HPE - ENTERPRISE NETWORKING\n",
      "Name: manufacturer, dtype: object\n",
      "************************************************************************************************************************\n",
      "TOP 5 MANUFACTURERS PROVIDING HIGHEST QUANTITY\n",
      "0          MS-OPEN VALUE SUBSCRIPTION\n",
      "1757648                    PLANAR LFD\n",
      "1757650     SUPERMICRO - MOTHERBOARDS\n",
      "1757651                       PANDUIT\n",
      "1757655         BLACK BOX CORPORATION\n",
      "Name: manufacturer, dtype: object\n",
      "************************************************************************************************************************\n",
      "TOP 5 MOST PROFITABLE PRODUCT\n",
      "manufacturer\n",
      "22MILES                          0.0\n",
      "PHOENIX AUDIO TECHNOLOGIES       0.0\n",
      "PANASONIC PANABOARDS             0.0\n",
      "PANASONIC FLAT PANEL DISPLAYS    0.0\n",
      "PANASONIC CTO                    0.0\n",
      "Name: revenue, dtype: float64\n",
      "************************************************************************************************************************\n"
     ]
    },
    {
     "name": "stderr",
     "output_type": "stream",
     "text": [
      "<ipython-input-47-dc7780b83a9f>:16: SettingWithCopyWarning: \n",
      "A value is trying to be set on a copy of a slice from a DataFrame.\n",
      "Try using .loc[row_indexer,col_indexer] = value instead\n",
      "\n",
      "See the caveats in the documentation: https://pandas.pydata.org/pandas-docs/stable/user_guide/indexing.html#returning-a-view-versus-a-copy\n",
      "  nostockdf['price_difference'] = nostockdf.sort_values('sku_create_date').groupby('description')['price'].diff().fillna(0)\n"
     ]
    },
    {
     "name": "stdout",
     "output_type": "stream",
     "text": [
      "PRODUCT WITH PRICE DECREASE\n",
      "1653733    CCW ONLY SWSS UPG 3YR DISTI SO=, CSC IA CLD 3....\n",
      "Name: description, dtype: object\n",
      "************************************************************************************************************************\n",
      "PRODUCT WITH PRICE INCREASE\n",
      "388652    CCW ONLY SWSS UPG 3YR DISTI SO=, CSC IA CLD 3....\n",
      "Name: description, dtype: object\n",
      "************************************************************************************************************************\n",
      "TOP CATEGORY FOR PRICE 1231\n",
      "************************************************************************************************************************\n",
      "TOP CATEGORY FOR QUANTITY 1539\n",
      "************************************************************************************************************************\n"
     ]
    }
   ],
   "source": [
    "#Which are the top Manufacturers with price, quantity?\n",
    "print(\"TOP 5 MANUFACTURERS WITH THE HIGHEST PRICE\")\n",
    "print(nostockdf.sort_values(by =['price'] , ascending=False)[\"manufacturer\"].drop_duplicates().head(5))\n",
    "print(\"****\" * 30)\n",
    "\n",
    "print(\"TOP 5 MANUFACTURERS PROVIDING HIGHEST QUANTITY\")\n",
    "print(nostockdf.sort_values(by =['qty'] , ascending=False)[\"manufacturer\"].drop_duplicates().head(5))\n",
    "print(\"****\" * 30)\n",
    "\n",
    "#Which are the most profitable products?\n",
    "print(\"TOP 5 MOST PROFITABLE PRODUCT\")\n",
    "print(nostockdf.groupby(['manufacturer'])['revenue'].sum().sort_values(ascending=False).head(5))\n",
    "print(\"****\" * 30)\n",
    "\n",
    "#create a new column which shows the difference in price from day to day\n",
    "nostockdf['price_difference'] = nostockdf.sort_values('sku_create_date').groupby('description')['price'].diff().fillna(0) \n",
    "\n",
    "#Which is the product where you have seen a decrease in the price?\n",
    "print(\"PRODUCT WITH PRICE DECREASE\")\n",
    "price_decrease=nostockdf[nostockdf['price_difference'] < 0.0].sort_values(by ='price_difference').head(1)\n",
    "print(price_decrease['description'])\n",
    "print(\"****\" * 30)\n",
    "\n",
    "#Which is the product where you have seen an increase in the price?\n",
    "print(\"PRODUCT WITH PRICE INCREASE\")\n",
    "price_increase=nostockdf[nostockdf['price_difference'] > 0.0].sort_values(by ='price_difference',ascending=False).head(1)\n",
    "print(price_increase['description'])\n",
    "print(\"****\" * 30)\n",
    "\n",
    "#Which is the top category by price and quantity\n",
    "print(\"TOP CATEGORY FOR PRICE\", nostockdf.sort_values(by = 'price', ascending=False).groupby(\"category\").head(1)[\"category\"].values[0])\n",
    "\n",
    "print(\"****\" * 30)\n",
    "\n",
    "print(\"TOP CATEGORY FOR QUANTITY\", nostockdf.sort_values(by = 'qty', ascending=False).groupby(\"category\").head(1)[\"category\"].values[0])\n",
    "print(\"****\" * 30)"
   ]
  },
  {
   "cell_type": "markdown",
   "id": "e1e7a9ed",
   "metadata": {},
   "source": [
    "## Conclusion\n",
    "\n",
    "### Products in stock\n",
    "\n",
    "The top manufacturers for price and quantity were  HPE - SWITCHING and  DELL CSG SERVICE WARRANTIES. \n",
    "\n",
    "DELL CSG SERVICE WARRANTIES had the most profitable product, but this is still depepndent on the cost to produce the factor. Therefore this could still change.\n",
    "\n",
    "The product for which there was an increase in price is 5YR PROSUPPORT PLUS, and the product for which there was a decrease in price is OPTIFIBER PRO QUAD OTDR V2 W/, INSPECTION & WIFI.\n",
    "\n",
    "The top categories for price and quantity are 521 and 1221 respectively.\n",
    "\n",
    "There are a few products which have 11 days of aging. It was also found that 43% of all the products (in stock) are aging (based on any product held for over 7 days).\n",
    "\n",
    "### Products Not in Stock\n",
    "\n",
    "The top manufacturers for price and quantity were  ALTNET and  MS-OPEN VALUE SUBSCRIPTION, respectively.\n",
    "\n",
    "Based on the table created, 22MILES  had the most profitable product, however, profitability was calculated by multiplying the quantity by the price and since if the product is not in stock, the quantity is 0, all products have a profitability of 0.\n",
    "\n",
    "The product for which there was an increase in price is CCW ONLY SWSS UPG 3YR DISTI SO=, CSC IA CLD 3, and the product for which there was a decrease in price is CCW ONLY SWSS UPG 3YR DISTI SO=, CSC IA CLD 3.\n",
    "\n",
    "The top categories for price and quantity are 1231 and 1539 respectively."
   ]
  },
  {
   "cell_type": "code",
   "execution_count": null,
   "id": "bdc9a30b",
   "metadata": {},
   "outputs": [],
   "source": []
  }
 ],
 "metadata": {
  "kernelspec": {
   "display_name": "Python 3",
   "language": "python",
   "name": "python3"
  },
  "language_info": {
   "codemirror_mode": {
    "name": "ipython",
    "version": 3
   },
   "file_extension": ".py",
   "mimetype": "text/x-python",
   "name": "python",
   "nbconvert_exporter": "python",
   "pygments_lexer": "ipython3",
   "version": "3.8.8"
  }
 },
 "nbformat": 4,
 "nbformat_minor": 5
}
