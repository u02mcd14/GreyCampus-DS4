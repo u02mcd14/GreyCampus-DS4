{
 "cells": [
  {
   "cell_type": "code",
   "execution_count": 1,
   "id": "1f5a2ef1",
   "metadata": {},
   "outputs": [],
   "source": [
    "import numpy as np"
   ]
  },
  {
   "cell_type": "code",
   "execution_count": 19,
   "id": "7c9c61a9",
   "metadata": {},
   "outputs": [
    {
     "name": "stdout",
     "output_type": "stream",
     "text": [
      "[0. 0. 0. 0. 0. 0. 0. 0. 0. 0.]\n"
     ]
    }
   ],
   "source": [
    "#Create a null vector of size 10\n",
    "V =np.zeros(10)\n",
    "print (V)"
   ]
  },
  {
   "cell_type": "code",
   "execution_count": 5,
   "id": "8965bfea",
   "metadata": {},
   "outputs": [
    {
     "name": "stdout",
     "output_type": "stream",
     "text": [
      "[0. 0. 0. 0. 1. 0. 0. 0. 0. 0.]\n"
     ]
    }
   ],
   "source": [
    "#Create a null vector of size 10 but the fifth value which is 1\n",
    "V =np.zeros(10)\n",
    "V[4] =1\n",
    "print (V)"
   ]
  },
  {
   "cell_type": "code",
   "execution_count": 6,
   "id": "eae89019",
   "metadata": {},
   "outputs": [
    {
     "name": "stdout",
     "output_type": "stream",
     "text": [
      "[10 11 12 13 14 15 16 17 18 19 20 21 22 23 24 25 26 27 28 29 30 31 32 33\n",
      " 34 35 36 37 38 39 40 41 42 43 44 45 46 47 48 49]\n"
     ]
    }
   ],
   "source": [
    "Create a vector with values ranging from 10 to 49\n",
    "V =np.arange(10,50)\n",
    "print (V)"
   ]
  },
  {
   "cell_type": "code",
   "execution_count": 20,
   "id": "dd7d7483",
   "metadata": {},
   "outputs": [
    {
     "name": "stdout",
     "output_type": "stream",
     "text": [
      "[49 48 47 46 45 44 43 42 41 40 39 38 37 36 35 34 33 32 31 30 29 28 27 26\n",
      " 25 24 23 22 21 20 19 18 17 16 15 14 13 12 11 10  9  8  7  6  5  4  3  2\n",
      "  1  0]\n"
     ]
    }
   ],
   "source": [
    "#Reverse a vector (the first element becomes last)\n",
    "V =np.arange(50)[::-1]\n",
    "print(V)"
   ]
  },
  {
   "cell_type": "code",
   "execution_count": 26,
   "id": "c4b7cac2",
   "metadata": {},
   "outputs": [
    {
     "name": "stdout",
     "output_type": "stream",
     "text": [
      "[[0 1 2]\n",
      " [3 4 5]\n",
      " [6 7 8]]\n"
     ]
    },
    {
     "data": {
      "text/plain": [
       "(3, 3)"
      ]
     },
     "execution_count": 26,
     "metadata": {},
     "output_type": "execute_result"
    }
   ],
   "source": [
    "#Create a 3x3 matrix with values ranging from 0 to 8\n",
    "V =np.arange(9).reshape(3,3)\n",
    "print(V)\n",
    "np.shape(V)"
   ]
  },
  {
   "cell_type": "code",
   "execution_count": 27,
   "id": "dedd7630",
   "metadata": {},
   "outputs": [
    {
     "name": "stdout",
     "output_type": "stream",
     "text": [
      "(array([0, 1, 4], dtype=int64),)\n"
     ]
    }
   ],
   "source": [
    "#Find indices of non­zero elements from [1,2,0,0,4,0] - means position within the array\n",
    "nonzero =np.nonzero([1,2,0,0,4,0])\n",
    "print(nonzero)"
   ]
  },
  {
   "cell_type": "code",
   "execution_count": 29,
   "id": "4db27edc",
   "metadata": {},
   "outputs": [
    {
     "name": "stdout",
     "output_type": "stream",
     "text": [
      "[[[0.42412272 0.27100199 0.3423806 ]\n",
      "  [0.62602084 0.95552865 0.14723566]\n",
      "  [0.63540481 0.03052999 0.64938123]]\n",
      "\n",
      " [[0.2071242  0.38138535 0.66709621]\n",
      "  [0.4301848  0.64312055 0.19304031]\n",
      "  [0.03170032 0.50740503 0.88213713]]\n",
      "\n",
      " [[0.89270535 0.38574072 0.44179223]\n",
      "  [0.61163474 0.0817963  0.67580331]\n",
      "  [0.0205643  0.37480791 0.49502289]]]\n"
     ]
    }
   ],
   "source": [
    "#Create a 3x3x3 array with random values\n",
    "V =np.random.random((3,3,3))\n",
    "print(V)"
   ]
  },
  {
   "cell_type": "code",
   "execution_count": 30,
   "id": "f0e13ef4",
   "metadata": {},
   "outputs": [
    {
     "name": "stdout",
     "output_type": "stream",
     "text": [
      "0.5673968016204647\n"
     ]
    }
   ],
   "source": [
    "#Create a random vector of size 30 and find the mean value\n",
    "V =np.random.random(30)\n",
    "mean =V.mean()\n",
    "print(mean)"
   ]
  },
  {
   "cell_type": "code",
   "execution_count": 33,
   "id": "68477af4",
   "metadata": {},
   "outputs": [
    {
     "name": "stdout",
     "output_type": "stream",
     "text": [
      "[[1. 1. 1. 1. 1. 1. 1. 1. 1.]\n",
      " [1. 0. 0. 0. 0. 0. 0. 0. 1.]\n",
      " [1. 0. 0. 0. 0. 0. 0. 0. 1.]\n",
      " [1. 0. 0. 0. 0. 0. 0. 0. 1.]\n",
      " [1. 0. 0. 0. 0. 0. 0. 0. 1.]\n",
      " [1. 0. 0. 0. 0. 0. 0. 0. 1.]\n",
      " [1. 0. 0. 0. 0. 0. 0. 0. 1.]\n",
      " [1. 0. 0. 0. 0. 0. 0. 0. 1.]\n",
      " [1. 1. 1. 1. 1. 1. 1. 1. 1.]]\n"
     ]
    }
   ],
   "source": [
    "#Create a 2d array with 1 on the border and 0 inside (data element is referred by two indices instead of one)\n",
    "V =np.ones((9,9))\n",
    "V[1:-1,1:-1] =0\n",
    "print(V)"
   ]
  },
  {
   "cell_type": "code",
   "execution_count": 34,
   "id": "b3c255ec",
   "metadata": {},
   "outputs": [
    {
     "name": "stdout",
     "output_type": "stream",
     "text": [
      "[[0 1 0 1 0 1 0 1]\n",
      " [1 0 1 0 1 0 1 0]\n",
      " [0 1 0 1 0 1 0 1]\n",
      " [1 0 1 0 1 0 1 0]\n",
      " [0 1 0 1 0 1 0 1]\n",
      " [1 0 1 0 1 0 1 0]\n",
      " [0 1 0 1 0 1 0 1]\n",
      " [1 0 1 0 1 0 1 0]]\n"
     ]
    }
   ],
   "source": [
    "#Create an 8x8 matrix and fill it with a checkerboard pattern\n",
    "V =np.zeros((8,8),dtype=int)\n",
    "V[1::2,::2] =1 #Slice from 1st index row till 1+2+2… and fill all columns with 1 starting from 0th to 0+2+2… and so on.\n",
    "V[::2,1::2] =1 #Slice from 0th row till 0+2+2… and fill all columns with 1 starting from 1 to 1+2+2+…..\n",
    "print(V)"
   ]
  },
  {
   "cell_type": "code",
   "execution_count": 35,
   "id": "3dcb0649",
   "metadata": {},
   "outputs": [],
   "source": [
    "#What is the major difference between sets, lists, tuples, and dictionaries?\n",
    "#Answer - Lists and tuples are ordered collection of items, sets and dictionaries are not. Items in lists can be replaced \n",
    "#or changed but not in the others. Dictionaries are the only one of the 4 which hold pairs of values\n",
    "#Lists and sets are mutable, the other are immutable"
   ]
  },
  {
   "cell_type": "code",
   "execution_count": 38,
   "id": "d7f6a215",
   "metadata": {},
   "outputs": [
    {
     "name": "stdout",
     "output_type": "stream",
     "text": [
      "1\n",
      "2\n",
      "3\n",
      "4\n",
      "5\n",
      "6\n",
      "7\n",
      "8\n",
      "9\n",
      "10\n"
     ]
    }
   ],
   "source": [
    "#Print first 10 natural numbers using while loop\n",
    "i = 1\n",
    "while(i<=10):\n",
    "    print(i)\n",
    "    i += 1 #x(i)  = x(i) + y(1)"
   ]
  },
  {
   "cell_type": "code",
   "execution_count": 82,
   "id": "8d1420a0",
   "metadata": {},
   "outputs": [
    {
     "name": "stdout",
     "output_type": "stream",
     "text": [
      "-10\n",
      "-9\n",
      "-8\n",
      "-7\n",
      "-6\n",
      "-5\n",
      "-4\n",
      "-3\n",
      "-2\n",
      "-1\n",
      "or\n",
      "-10\n",
      "-9\n",
      "-8\n",
      "-7\n",
      "-6\n",
      "-5\n",
      "-4\n",
      "-3\n",
      "-2\n",
      "-1\n"
     ]
    }
   ],
   "source": [
    "#Print the numbers -10 to -1 using for loop.\n",
    "V =np.negative(np.arange(1,11)[::-1])\n",
    "for i in V:\n",
    "    print (i)\n",
    "    \n",
    "print(\"or\")\n",
    "\n",
    "for V in range(-10,0):\n",
    "    print (V)\n"
   ]
  },
  {
   "cell_type": "code",
   "execution_count": 95,
   "id": "5b099b18",
   "metadata": {},
   "outputs": [
    {
     "name": "stdout",
     "output_type": "stream",
     "text": [
      "done :-10\n",
      "done :-9\n",
      "done :-8\n",
      "done :-7\n",
      "done :-6\n",
      "done :-5\n",
      "done :-4\n",
      "done :-3\n",
      "done :-2\n",
      "done :-1\n"
     ]
    }
   ],
   "source": [
    "#Print the message “Done” after successful execution of any for loop.\n",
    "V =np.negative(np.arange(1,11)[::-1])\n",
    "for i in V:\n",
    "    print (\"done :%s\" %i)"
   ]
  },
  {
   "cell_type": "code",
   "execution_count": 96,
   "id": "55d7e267",
   "metadata": {},
   "outputs": [
    {
     "name": "stdout",
     "output_type": "stream",
     "text": [
      "Original array:\n",
      "[0.33070427 0.80647244 0.79150037 0.46285249 0.90894478 0.86101377\n",
      " 0.61604109 0.01670795 0.32071825 0.14643338]\n",
      "Sorted array:\n",
      "[0.01670795 0.14643338 0.32071825 0.33070427 0.46285249 0.61604109\n",
      " 0.79150037 0.80647244 0.86101377 0.90894478]\n"
     ]
    }
   ],
   "source": [
    "#Create a random vector of size 10 and sort it\n",
    "v = np.random.random(10)\n",
    "print(\"Original array:\")\n",
    "print(v)\n",
    "v.sort()\n",
    "print(\"Sorted array:\")\n",
    "print(v)"
   ]
  },
  {
   "cell_type": "code",
   "execution_count": 78,
   "id": "6db5c5ca",
   "metadata": {},
   "outputs": [
    {
     "name": "stdout",
     "output_type": "stream",
     "text": [
      "first function\n",
      "0.6020599913279624\n",
      "second function\n",
      "[0.97819271 1.28160435 0.69066619 0.66985593 0.67267453 0.96368762\n",
      " 1.52849601 0.10713076 0.74066641 1.24483925]\n",
      "third function\n",
      "[0.67510318 0.99550452 0.6741788  0.73409128 0.87418144 0.39342336\n",
      " 0.94211512 0.87020215 0.00809271 0.61666766]\n"
     ]
    }
   ],
   "source": [
    "#Execute any three math functions using numpy.\n",
    "print(\"first function\")\n",
    "print(np.log10(4))\n",
    "a=np.random.random(10)\n",
    "b=np.random.random(10)\n",
    "print(\"second function\")\n",
    "print(np.add(a,b))\n",
    "print(\"third function\")\n",
    "c=np.random.random(10)\n",
    "d=np.random.random(10)\n",
    "print(np.power(a,b))\n"
   ]
  }
 ],
 "metadata": {
  "kernelspec": {
   "display_name": "Python 3",
   "language": "python",
   "name": "python3"
  },
  "language_info": {
   "codemirror_mode": {
    "name": "ipython",
    "version": 3
   },
   "file_extension": ".py",
   "mimetype": "text/x-python",
   "name": "python",
   "nbconvert_exporter": "python",
   "pygments_lexer": "ipython3",
   "version": "3.8.8"
  }
 },
 "nbformat": 4,
 "nbformat_minor": 5
}
