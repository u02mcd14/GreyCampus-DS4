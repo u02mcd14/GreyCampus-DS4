{
 "cells": [
  {
   "cell_type": "code",
   "execution_count": 13,
   "id": "72f444c6",
   "metadata": {},
   "outputs": [
    {
     "data": {
      "text/plain": [
       "'C:\\\\Users\\\\melis\\\\OneDrive\\\\Documents'"
      ]
     },
     "execution_count": 13,
     "metadata": {},
     "output_type": "execute_result"
    }
   ],
   "source": [
    "import os\n",
    "os.getcwd()"
   ]
  },
  {
   "cell_type": "code",
   "execution_count": 38,
   "id": "29509930",
   "metadata": {},
   "outputs": [
    {
     "name": "stdout",
     "output_type": "stream",
     "text": [
      "     ID  Reason for Absence        Date  Transportation Expense  \\\n",
      "0    11                  26  07/07/2015                     289   \n",
      "1    36                   0  14/07/2015                     118   \n",
      "2     3                  23  15/07/2015                     179   \n",
      "3     7                   7  16/07/2015                     279   \n",
      "4    11                  23  23/07/2015                     289   \n",
      "..   ..                 ...         ...                     ...   \n",
      "695  17                  10  23/05/2018                     179   \n",
      "696  28                   6  23/05/2018                     225   \n",
      "697  18                  10  24/05/2018                     330   \n",
      "698  25                  23  24/05/2018                     235   \n",
      "699  15                  28  31/05/2018                     291   \n",
      "\n",
      "     Distance to Work  Age  Daily Work Load Average  Body Mass Index  \\\n",
      "0                  36   33                  239.554               30   \n",
      "1                  13   50                  239.554               31   \n",
      "2                  51   38                  239.554               31   \n",
      "3                   5   39                  239.554               24   \n",
      "4                  36   33                  239.554               30   \n",
      "..                ...  ...                      ...              ...   \n",
      "695                22   40                  237.656               22   \n",
      "696                26   28                  237.656               24   \n",
      "697                16   28                  237.656               25   \n",
      "698                16   32                  237.656               25   \n",
      "699                31   40                  237.656               25   \n",
      "\n",
      "     Education  Children  Pets  Absenteeism Time in Hours  \n",
      "0            1         2     1                          4  \n",
      "1            1         1     0                          0  \n",
      "2            1         0     0                          2  \n",
      "3            1         2     0                          4  \n",
      "4            1         2     1                          2  \n",
      "..         ...       ...   ...                        ...  \n",
      "695          2         2     0                          8  \n",
      "696          1         1     2                          3  \n",
      "697          2         0     0                          8  \n",
      "698          3         0     0                          2  \n",
      "699          1         1     1                          2  \n",
      "\n",
      "[700 rows x 12 columns]\n",
      "     Reason for Absence        Date  Transportation Expense  Distance to Work  \\\n",
      "0                    26  07/07/2015                     289                36   \n",
      "1                     0  14/07/2015                     118                13   \n",
      "2                    23  15/07/2015                     179                51   \n",
      "3                     7  16/07/2015                     279                 5   \n",
      "4                    23  23/07/2015                     289                36   \n",
      "..                  ...         ...                     ...               ...   \n",
      "695                  10  23/05/2018                     179                22   \n",
      "696                   6  23/05/2018                     225                26   \n",
      "697                  10  24/05/2018                     330                16   \n",
      "698                  23  24/05/2018                     235                16   \n",
      "699                  28  31/05/2018                     291                31   \n",
      "\n",
      "     Age  Daily Work Load Average  Body Mass Index  Education  Children  Pets  \\\n",
      "0     33                  239.554               30          1         2     1   \n",
      "1     50                  239.554               31          1         1     0   \n",
      "2     38                  239.554               31          1         0     0   \n",
      "3     39                  239.554               24          1         2     0   \n",
      "4     33                  239.554               30          1         2     1   \n",
      "..   ...                      ...              ...        ...       ...   ...   \n",
      "695   40                  237.656               22          2         2     0   \n",
      "696   28                  237.656               24          1         1     2   \n",
      "697   28                  237.656               25          2         0     0   \n",
      "698   32                  237.656               25          3         0     0   \n",
      "699   40                  237.656               25          1         1     1   \n",
      "\n",
      "     Absenteeism Time in Hours  \n",
      "0                            4  \n",
      "1                            0  \n",
      "2                            2  \n",
      "3                            4  \n",
      "4                            2  \n",
      "..                         ...  \n",
      "695                          8  \n",
      "696                          3  \n",
      "697                          8  \n",
      "698                          2  \n",
      "699                          2  \n",
      "\n",
      "[700 rows x 11 columns]\n",
      "     Reason for Absence        Date  Transportation Expense  Distance to Work  \\\n",
      "0                    26  07/07/2015                     289                36   \n",
      "1                     0  14/07/2015                     118                13   \n",
      "2                    23  15/07/2015                     179                51   \n",
      "3                     7  16/07/2015                     279                 5   \n",
      "4                    23  23/07/2015                     289                36   \n",
      "..                  ...         ...                     ...               ...   \n",
      "695                  10  23/05/2018                     179                22   \n",
      "696                   6  23/05/2018                     225                26   \n",
      "697                  10  24/05/2018                     330                16   \n",
      "698                  23  24/05/2018                     235                16   \n",
      "699                  28  31/05/2018                     291                31   \n",
      "\n",
      "     Daily Work Load Average  Body Mass Index  Education  Children  Pets  \\\n",
      "0                    239.554               30          1         2     1   \n",
      "1                    239.554               31          1         1     0   \n",
      "2                    239.554               31          1         0     0   \n",
      "3                    239.554               24          1         2     0   \n",
      "4                    239.554               30          1         2     1   \n",
      "..                       ...              ...        ...       ...   ...   \n",
      "695                  237.656               22          2         2     0   \n",
      "696                  237.656               24          1         1     2   \n",
      "697                  237.656               25          2         0     0   \n",
      "698                  237.656               25          3         0     0   \n",
      "699                  237.656               25          1         1     1   \n",
      "\n",
      "     Absenteeism Time in Hours  \n",
      "0                            4  \n",
      "1                            0  \n",
      "2                            2  \n",
      "3                            4  \n",
      "4                            2  \n",
      "..                         ...  \n",
      "695                          8  \n",
      "696                          3  \n",
      "697                          8  \n",
      "698                          2  \n",
      "699                          2  \n",
      "\n",
      "[700 rows x 10 columns]\n",
      "Minimum\n",
      "Reason for Absence    0\n",
      "dtype: int64\n",
      " Maximum\n",
      "Reason for Absence    28\n",
      "dtype: int64\n"
     ]
    },
    {
     "data": {
      "text/plain": [
       "700"
      ]
     },
     "execution_count": 38,
     "metadata": {},
     "output_type": "execute_result"
    }
   ],
   "source": [
    "import pandas as pd\n",
    "df = pd.read_csv(r'C:\\Users\\melis\\OneDrive\\Documents\\Absenteeism_data+(2).csv')\n",
    "print(df)\n",
    "type(df)\n",
    "df=df.drop(columns=['ID'])\n",
    "print(df)\n",
    "df=df.drop(columns=['Age'])\n",
    "print(df)\n",
    "print(\"Minimum\")\n",
    "print(df[['Reason for Absence']].min())\n",
    " \n",
    "print(\" Maximum\")\n",
    "print(df[['Reason for Absence']].max())\n",
    "len(df['Reason for Absence'])"
   ]
  },
  {
   "cell_type": "code",
   "execution_count": 30,
   "id": "7582dbac",
   "metadata": {},
   "outputs": [
    {
     "data": {
      "text/plain": [
       "Reason for Absence             int64\n",
       "Date                          object\n",
       "Transportation Expense         int64\n",
       "Distance to Work               int64\n",
       "Daily Work Load Average      float64\n",
       "Body Mass Index                int64\n",
       "Education                      int64\n",
       "Children                       int64\n",
       "Pets                           int64\n",
       "Absenteeism Time in Hours      int64\n",
       "dtype: object"
      ]
     },
     "execution_count": 30,
     "metadata": {},
     "output_type": "execute_result"
    }
   ],
   "source": [
    "df.dtypes"
   ]
  },
  {
   "cell_type": "code",
   "execution_count": 79,
   "id": "4effc795",
   "metadata": {},
   "outputs": [
    {
     "data": {
      "text/plain": [
       "Reason for Absence\n",
       "0      0.000000\n",
       "1     11.375000\n",
       "2     24.000000\n",
       "3      8.000000\n",
       "4      4.500000\n",
       "5      6.333333\n",
       "6      7.166667\n",
       "7     10.307692\n",
       "8      6.000000\n",
       "9     42.000000\n",
       "10    11.681818\n",
       "11    12.166667\n",
       "12    23.375000\n",
       "13    14.557692\n",
       "14     8.833333\n",
       "15     8.000000\n",
       "16     2.000000\n",
       "17     8.000000\n",
       "18    10.333333\n",
       "19    19.222222\n",
       "21     5.833333\n",
       "22     7.562500\n",
       "23     2.857143\n",
       "24     8.000000\n",
       "25     3.344828\n",
       "26     7.354839\n",
       "27     2.272727\n",
       "28     2.990909\n",
       "Name: Absenteeism Time in Hours, dtype: float64"
      ]
     },
     "execution_count": 79,
     "metadata": {},
     "output_type": "execute_result"
    }
   ],
   "source": [
    "from matplotlib import pyplot as plt\n",
    "avg_time_to_reason = df.groupby('Reason for Absence')['Absenteeism Time in Hours'].mean()\n",
    "avg_time_to_reason"
   ]
  },
  {
   "cell_type": "code",
   "execution_count": 78,
   "id": "ba2c1cc6",
   "metadata": {},
   "outputs": [
    {
     "name": "stdout",
     "output_type": "stream",
     "text": [
      "[0, 1, 2, 3, 4, 5, 6, 7, 8, 9, 10, 11, 12, 13, 14, 15, 16, 17, 18, 19, 21, 22, 23, 24, 25, 26, 27, 28]\n",
      "[0.0, 11.375, 24.0, 8.0, 4.5, 6.333333333333333, 7.166666666666667, 10.307692307692308, 6.0, 42.0, 11.681818181818182, 12.166666666666666, 23.375, 14.557692307692308, 8.833333333333334, 8.0, 2.0, 8.0, 10.333333333333334, 19.22222222222222, 5.833333333333333, 7.5625, 2.857142857142857, 8.0, 3.3448275862068964, 7.354838709677419, 2.272727272727273, 2.9909090909090907]\n"
     ]
    }
   ],
   "source": [
    "from matplotlib import pyplot as plt\n",
    "import numpy as np\n",
    "x = list(avg_time_to_reason.index)\n",
    "y = list(avg_time_to_reason.values)\n",
    "print(x)\n",
    "print(y)\n",
    "#agregate the values"
   ]
  },
  {
   "cell_type": "code",
   "execution_count": 84,
   "id": "3c4d103c",
   "metadata": {},
   "outputs": [
    {
     "data": {
      "image/png": "[encoded data removed]",
      "text/plain": [
       "<Figure size 432x288 with 1 Axes>"
      ]
     },
     "metadata": {
      "needs_background": "light"
     },
     "output_type": "display_data"
    }
   ],
   "source": [
    "plt.title(\"Absenteenism time in hours based on reason of absence\")\n",
    "plt.plot(x,y,'m')\n",
    "plt.xlabel(\"Reason for absence\")\n",
    "plt.ylabel(\"Average time of absence\")\n",
    "plt.show()\n",
    "#reason 9 has the highest average time of absence and reason 0 has the lowest time of absence (0)"
   ]
  },
  {
   "cell_type": "code",
   "execution_count": 85,
   "id": "fc8024db",
   "metadata": {},
   "outputs": [
    {
     "data": {
      "image/png": "[encoded data removed]",
      "text/plain": [
       "<Figure size 432x288 with 1 Axes>"
      ]
     },
     "metadata": {
      "needs_background": "light"
     },
     "output_type": "display_data"
    }
   ],
   "source": [
    "plt.title(\"Distance to work vs Absenteeism Time in Hours\")\n",
    "plt.scatter(df['Distance to Work'],df['Absenteeism Time in Hours'])\n",
    "plt.xlabel(\"Distance to Work\")\n",
    "plt.ylabel(\"Absenteeism Time in Hours\")\n",
    "plt.show()\n",
    "#no relationship"
   ]
  },
  {
   "cell_type": "code",
   "execution_count": null,
   "id": "acc8b655",
   "metadata": {},
   "outputs": [],
   "source": []
  }
 ],
 "metadata": {
  "kernelspec": {
   "display_name": "Python 3",
   "language": "python",
   "name": "python3"
  },
  "language_info": {
   "codemirror_mode": {
    "name": "ipython",
    "version": 3
   },
   "file_extension": ".py",
   "mimetype": "text/x-python",
   "name": "python",
   "nbconvert_exporter": "python",
   "pygments_lexer": "ipython3",
   "version": "3.8.8"
  }
 },
 "nbformat": 4,
 "nbformat_minor": 5
}
