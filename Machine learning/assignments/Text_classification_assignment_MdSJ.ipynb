{
 "cells": [
  {
   "cell_type": "code",
   "execution_count": 1,
   "id": "b52d0f61",
   "metadata": {},
   "outputs": [
    {
     "name": "stderr",
     "output_type": "stream",
     "text": [
      "[nltk_data] Downloading package punkt to\n",
      "[nltk_data]     C:\\Users\\melis\\AppData\\Roaming\\nltk_data...\n",
      "[nltk_data]   Package punkt is already up-to-date!\n"
     ]
    },
    {
     "data": {
      "text/plain": [
       "True"
      ]
     },
     "execution_count": 1,
     "metadata": {},
     "output_type": "execute_result"
    }
   ],
   "source": [
    "import numpy as np\n",
    "from matplotlib import pyplot as plt\n",
    "import pandas as pd\n",
    "import seaborn as sns\n",
    "%matplotlib inline\n",
    "import nltk\n",
    "import nltk.corpus\n",
    "nltk.download('punkt')"
   ]
  },
  {
   "cell_type": "code",
   "execution_count": 45,
   "id": "49ad13da",
   "metadata": {},
   "outputs": [],
   "source": [
    "from sklearn.datasets import fetch_20newsgroups\n",
    "ds = fetch_20newsgroups()"
   ]
  },
  {
   "cell_type": "code",
   "execution_count": 3,
   "id": "5b94b294",
   "metadata": {},
   "outputs": [
    {
     "data": {
      "text/plain": [
       "dict_keys(['data', 'filenames', 'target_names', 'target', 'DESCR'])"
      ]
     },
     "execution_count": 3,
     "metadata": {},
     "output_type": "execute_result"
    }
   ],
   "source": [
    "ds.keys()"
   ]
  },
  {
   "cell_type": "code",
   "execution_count": 4,
   "id": "ea95b9c4",
   "metadata": {},
   "outputs": [
    {
     "name": "stdout",
     "output_type": "stream",
     "text": [
      ".. _20newsgroups_dataset:\n",
      "\n",
      "The 20 newsgroups text dataset\n",
      "------------------------------\n",
      "\n",
      "The 20 newsgroups dataset comprises around 18000 newsgroups posts on\n",
      "20 topics split in two subsets: one for training (or development)\n",
      "and the other one for testing (or for performance evaluation). The split\n",
      "between the train and test set is based upon a messages posted before\n",
      "and after a specific date.\n",
      "\n",
      "This module contains two loaders. The first one,\n",
      ":func:`sklearn.datasets.fetch_20newsgroups`,\n",
      "returns a list of the raw texts that can be fed to text feature\n",
      "extractors such as :class:`~sklearn.feature_extraction.text.CountVectorizer`\n",
      "with custom parameters so as to extract feature vectors.\n",
      "The second one, :func:`sklearn.datasets.fetch_20newsgroups_vectorized`,\n",
      "returns ready-to-use features, i.e., it is not necessary to use a feature\n",
      "extractor.\n",
      "\n",
      "**Data Set Characteristics:**\n",
      "\n",
      "    =================   ==========\n",
      "    Classes                     20\n",
      "    Samples total            18846\n",
      "    Dimensionality               1\n",
      "    Features                  text\n",
      "    =================   ==========\n",
      "\n",
      "Usage\n",
      "~~~~~\n",
      "\n",
      "The :func:`sklearn.datasets.fetch_20newsgroups` function is a data\n",
      "fetching / caching functions that downloads the data archive from\n",
      "the original `20 newsgroups website`_, extracts the archive contents\n",
      "in the ``~/scikit_learn_data/20news_home`` folder and calls the\n",
      ":func:`sklearn.datasets.load_files` on either the training or\n",
      "testing set folder, or both of them::\n",
      "\n",
      "  >>> from sklearn.datasets import fetch_20newsgroups\n",
      "  >>> newsgroups_train = fetch_20newsgroups(subset='train')\n",
      "\n",
      "  >>> from pprint import pprint\n",
      "  >>> pprint(list(newsgroups_train.target_names))\n",
      "  ['alt.atheism',\n",
      "   'comp.graphics',\n",
      "   'comp.os.ms-windows.misc',\n",
      "   'comp.sys.ibm.pc.hardware',\n",
      "   'comp.sys.mac.hardware',\n",
      "   'comp.windows.x',\n",
      "   'misc.forsale',\n",
      "   'rec.autos',\n",
      "   'rec.motorcycles',\n",
      "   'rec.sport.baseball',\n",
      "   'rec.sport.hockey',\n",
      "   'sci.crypt',\n",
      "   'sci.electronics',\n",
      "   'sci.med',\n",
      "   'sci.space',\n",
      "   'soc.religion.christian',\n",
      "   'talk.politics.guns',\n",
      "   'talk.politics.mideast',\n",
      "   'talk.politics.misc',\n",
      "   'talk.religion.misc']\n",
      "\n",
      "The real data lies in the ``filenames`` and ``target`` attributes. The target\n",
      "attribute is the integer index of the category::\n",
      "\n",
      "  >>> newsgroups_train.filenames.shape\n",
      "  (11314,)\n",
      "  >>> newsgroups_train.target.shape\n",
      "  (11314,)\n",
      "  >>> newsgroups_train.target[:10]\n",
      "  array([ 7,  4,  4,  1, 14, 16, 13,  3,  2,  4])\n",
      "\n",
      "It is possible to load only a sub-selection of the categories by passing the\n",
      "list of the categories to load to the\n",
      ":func:`sklearn.datasets.fetch_20newsgroups` function::\n",
      "\n",
      "  >>> cats = ['alt.atheism', 'sci.space']\n",
      "  >>> newsgroups_train = fetch_20newsgroups(subset='train', categories=cats)\n",
      "\n",
      "  >>> list(newsgroups_train.target_names)\n",
      "  ['alt.atheism', 'sci.space']\n",
      "  >>> newsgroups_train.filenames.shape\n",
      "  (1073,)\n",
      "  >>> newsgroups_train.target.shape\n",
      "  (1073,)\n",
      "  >>> newsgroups_train.target[:10]\n",
      "  array([0, 1, 1, 1, 0, 1, 1, 0, 0, 0])\n",
      "\n",
      "Converting text to vectors\n",
      "~~~~~~~~~~~~~~~~~~~~~~~~~~\n",
      "\n",
      "In order to feed predictive or clustering models with the text data,\n",
      "one first need to turn the text into vectors of numerical values suitable\n",
      "for statistical analysis. This can be achieved with the utilities of the\n",
      "``sklearn.feature_extraction.text`` as demonstrated in the following\n",
      "example that extract `TF-IDF`_ vectors of unigram tokens\n",
      "from a subset of 20news::\n",
      "\n",
      "  >>> from sklearn.feature_extraction.text import TfidfVectorizer\n",
      "  >>> categories = ['alt.atheism', 'talk.religion.misc',\n",
      "  ...               'comp.graphics', 'sci.space']\n",
      "  >>> newsgroups_train = fetch_20newsgroups(subset='train',\n",
      "  ...                                       categories=categories)\n",
      "  >>> vectorizer = TfidfVectorizer()\n",
      "  >>> vectors = vectorizer.fit_transform(newsgroups_train.data)\n",
      "  >>> vectors.shape\n",
      "  (2034, 34118)\n",
      "\n",
      "The extracted TF-IDF vectors are very sparse, with an average of 159 non-zero\n",
      "components by sample in a more than 30000-dimensional space\n",
      "(less than .5% non-zero features)::\n",
      "\n",
      "  >>> vectors.nnz / float(vectors.shape[0])\n",
      "  159.01327...\n",
      "\n",
      ":func:`sklearn.datasets.fetch_20newsgroups_vectorized` is a function which \n",
      "returns ready-to-use token counts features instead of file names.\n",
      "\n",
      ".. _`20 newsgroups website`: http://people.csail.mit.edu/jrennie/20Newsgroups/\n",
      ".. _`TF-IDF`: https://en.wikipedia.org/wiki/Tf-idf\n",
      "\n",
      "\n",
      "Filtering text for more realistic training\n",
      "~~~~~~~~~~~~~~~~~~~~~~~~~~~~~~~~~~~~~~~~~~\n",
      "\n",
      "It is easy for a classifier to overfit on particular things that appear in the\n",
      "20 Newsgroups data, such as newsgroup headers. Many classifiers achieve very\n",
      "high F-scores, but their results would not generalize to other documents that\n",
      "aren't from this window of time.\n",
      "\n",
      "For example, let's look at the results of a multinomial Naive Bayes classifier,\n",
      "which is fast to train and achieves a decent F-score::\n",
      "\n",
      "  >>> from sklearn.naive_bayes import MultinomialNB\n",
      "  >>> from sklearn import metrics\n",
      "  >>> newsgroups_test = fetch_20newsgroups(subset='test',\n",
      "  ...                                      categories=categories)\n",
      "  >>> vectors_test = vectorizer.transform(newsgroups_test.data)\n",
      "  >>> clf = MultinomialNB(alpha=.01)\n",
      "  >>> clf.fit(vectors, newsgroups_train.target)\n",
      "  MultinomialNB(alpha=0.01, class_prior=None, fit_prior=True)\n",
      "\n",
      "  >>> pred = clf.predict(vectors_test)\n",
      "  >>> metrics.f1_score(newsgroups_test.target, pred, average='macro')\n",
      "  0.88213...\n",
      "\n",
      "(The example :ref:`sphx_glr_auto_examples_text_plot_document_classification_20newsgroups.py` shuffles\n",
      "the training and test data, instead of segmenting by time, and in that case\n",
      "multinomial Naive Bayes gets a much higher F-score of 0.88. Are you suspicious\n",
      "yet of what's going on inside this classifier?)\n",
      "\n",
      "Let's take a look at what the most informative features are:\n",
      "\n",
      "  >>> import numpy as np\n",
      "  >>> def show_top10(classifier, vectorizer, categories):\n",
      "  ...     feature_names = np.asarray(vectorizer.get_feature_names())\n",
      "  ...     for i, category in enumerate(categories):\n",
      "  ...         top10 = np.argsort(classifier.coef_[i])[-10:]\n",
      "  ...         print(\"%s: %s\" % (category, \" \".join(feature_names[top10])))\n",
      "  ...\n",
      "  >>> show_top10(clf, vectorizer, newsgroups_train.target_names)\n",
      "  alt.atheism: edu it and in you that is of to the\n",
      "  comp.graphics: edu in graphics it is for and of to the\n",
      "  sci.space: edu it that is in and space to of the\n",
      "  talk.religion.misc: not it you in is that and to of the\n",
      "\n",
      "\n",
      "You can now see many things that these features have overfit to:\n",
      "\n",
      "- Almost every group is distinguished by whether headers such as\n",
      "  ``NNTP-Posting-Host:`` and ``Distribution:`` appear more or less often.\n",
      "- Another significant feature involves whether the sender is affiliated with\n",
      "  a university, as indicated either by their headers or their signature.\n",
      "- The word \"article\" is a significant feature, based on how often people quote\n",
      "  previous posts like this: \"In article [article ID], [name] <[e-mail address]>\n",
      "  wrote:\"\n",
      "- Other features match the names and e-mail addresses of particular people who\n",
      "  were posting at the time.\n",
      "\n",
      "With such an abundance of clues that distinguish newsgroups, the classifiers\n",
      "barely have to identify topics from text at all, and they all perform at the\n",
      "same high level.\n",
      "\n",
      "For this reason, the functions that load 20 Newsgroups data provide a\n",
      "parameter called **remove**, telling it what kinds of information to strip out\n",
      "of each file. **remove** should be a tuple containing any subset of\n",
      "``('headers', 'footers', 'quotes')``, telling it to remove headers, signature\n",
      "blocks, and quotation blocks respectively.\n",
      "\n",
      "  >>> newsgroups_test = fetch_20newsgroups(subset='test',\n",
      "  ...                                      remove=('headers', 'footers', 'quotes'),\n",
      "  ...                                      categories=categories)\n",
      "  >>> vectors_test = vectorizer.transform(newsgroups_test.data)\n",
      "  >>> pred = clf.predict(vectors_test)\n",
      "  >>> metrics.f1_score(pred, newsgroups_test.target, average='macro')\n",
      "  0.77310...\n",
      "\n",
      "This classifier lost over a lot of its F-score, just because we removed\n",
      "metadata that has little to do with topic classification.\n",
      "It loses even more if we also strip this metadata from the training data:\n",
      "\n",
      "  >>> newsgroups_train = fetch_20newsgroups(subset='train',\n",
      "  ...                                       remove=('headers', 'footers', 'quotes'),\n",
      "  ...                                       categories=categories)\n",
      "  >>> vectors = vectorizer.fit_transform(newsgroups_train.data)\n",
      "  >>> clf = MultinomialNB(alpha=.01)\n",
      "  >>> clf.fit(vectors, newsgroups_train.target)\n",
      "  MultinomialNB(alpha=0.01, class_prior=None, fit_prior=True)\n",
      "\n",
      "  >>> vectors_test = vectorizer.transform(newsgroups_test.data)\n",
      "  >>> pred = clf.predict(vectors_test)\n",
      "  >>> metrics.f1_score(newsgroups_test.target, pred, average='macro')\n",
      "  0.76995...\n",
      "\n",
      "Some other classifiers cope better with this harder version of the task. Try\n",
      "running :ref:`sphx_glr_auto_examples_model_selection_grid_search_text_feature_extraction.py` with and without\n",
      "the ``--filter`` option to compare the results.\n",
      "\n",
      ".. topic:: Recommendation\n",
      "\n",
      "  When evaluating text classifiers on the 20 Newsgroups data, you\n",
      "  should strip newsgroup-related metadata. In scikit-learn, you can do this by\n",
      "  setting ``remove=('headers', 'footers', 'quotes')``. The F-score will be\n",
      "  lower because it is more realistic.\n",
      "\n",
      ".. topic:: Examples\n",
      "\n",
      "   * :ref:`sphx_glr_auto_examples_model_selection_grid_search_text_feature_extraction.py`\n",
      "\n",
      "   * :ref:`sphx_glr_auto_examples_text_plot_document_classification_20newsgroups.py`\n",
      "\n"
     ]
    }
   ],
   "source": [
    "print(ds['DESCR'])"
   ]
  },
  {
   "cell_type": "code",
   "execution_count": 57,
   "id": "ac21052b",
   "metadata": {},
   "outputs": [],
   "source": [
    "ds_train = fetch_20newsgroups(subset='train', shuffle=True)"
   ]
  },
  {
   "cell_type": "code",
   "execution_count": 58,
   "id": "95febbd0",
   "metadata": {},
   "outputs": [
    {
     "name": "stdout",
     "output_type": "stream",
     "text": [
      "From: lerxst@wam.umd.edu (where's my thing)\n",
      "Subject: WHAT car is this!?\n",
      "Nntp-Posting-Host: rac3.wam.umd.edu\n"
     ]
    }
   ],
   "source": [
    "print(\"\\n\".join(ds_train.data[0].split(\"\\n\")[:3]))"
   ]
  },
  {
   "cell_type": "code",
   "execution_count": 59,
   "id": "76cbf01b",
   "metadata": {},
   "outputs": [
    {
     "data": {
      "text/plain": [
       "(11314, 130107)"
      ]
     },
     "execution_count": 59,
     "metadata": {},
     "output_type": "execute_result"
    }
   ],
   "source": [
    "from sklearn.feature_extraction.text import CountVectorizer\n",
    "count_vect = CountVectorizer()#Convert a collection of text documents to a matrix of token counts\n",
    "x_train_counts = count_vect.fit_transform(ds_train.data)#learning the vocabulary dictionary and it returns a Document-Term matrix. [n_samples, n_features].\n",
    "x_train_counts.shape"
   ]
  },
  {
   "cell_type": "code",
   "execution_count": 60,
   "id": "bdd48d59",
   "metadata": {},
   "outputs": [
    {
     "data": {
      "text/plain": [
       "(11314, 130107)"
      ]
     },
     "execution_count": 60,
     "metadata": {},
     "output_type": "execute_result"
    }
   ],
   "source": [
    "from sklearn.feature_extraction.text import TfidfTransformer#ensure longer documents do not get more weight and that common words (the, a  etc) have a reduced weightage\n",
    "tfidf_transformer = TfidfTransformer()\n",
    "x_train_tfidf = tfidf_transformer.fit_transform(x_train_counts)\n",
    "x_train_tfidf.shape"
   ]
  },
  {
   "cell_type": "code",
   "execution_count": 61,
   "id": "3223006e",
   "metadata": {},
   "outputs": [],
   "source": [
    "from sklearn.neighbors import KNeighborsClassifier \n",
    "KNN=KNeighborsClassifier(n_neighbors=9)"
   ]
  },
  {
   "cell_type": "code",
   "execution_count": 62,
   "id": "9f3b3156",
   "metadata": {},
   "outputs": [],
   "source": [
    "classifier = KNN.fit(x_train_tfidf, ds_train.target)\n",
    "new=['Where is my car']\n",
    "x_new_counts = count_vect.transform(new)\n",
    "x_new_tfidf = tfidf_transformer.transform(x_new_counts)"
   ]
  },
  {
   "cell_type": "code",
   "execution_count": 63,
   "id": "de497d77",
   "metadata": {},
   "outputs": [
    {
     "name": "stdout",
     "output_type": "stream",
     "text": [
      "'Where is my car' => rec.autos\n"
     ]
    }
   ],
   "source": [
    "predicted = classifier.predict(x_new_tfidf)\n",
    "\n",
    "for doc, category in zip(new, predicted):\n",
    "    print('%r => %s' % (doc, ds_train.target_names[category]))"
   ]
  },
  {
   "cell_type": "code",
   "execution_count": 64,
   "id": "c609d3be",
   "metadata": {},
   "outputs": [],
   "source": [
    "from sklearn.pipeline import Pipeline\n",
    "text_classifier = Pipeline([\n",
    "    ('vect', CountVectorizer()),\n",
    "    ('tfidf', TfidfTransformer()),\n",
    "    ('classifier', KNN),\n",
    "])"
   ]
  },
  {
   "cell_type": "code",
   "execution_count": 65,
   "id": "295b2d00",
   "metadata": {},
   "outputs": [],
   "source": [
    "text_classifier.fit(ds_train.data, ds_train.target)\n",
    "\n",
    "ds_test = fetch_20newsgroups(subset='test',shuffle=True)# Test data \n",
    "doc_test = ds_test.data\n"
   ]
  },
  {
   "cell_type": "code",
   "execution_count": 66,
   "id": "ddfd4554",
   "metadata": {},
   "outputs": [
    {
     "name": "stdout",
     "output_type": "stream",
     "text": [
      "We got an accuracy of 65.36112586298461 % over the test data.\n"
     ]
    }
   ],
   "source": [
    "predicted = text_classifier.predict(doc_test)# Predicting our test data\n",
    "print('We got an accuracy of',np.mean(predicted == ds_test.target)*100, '% over the test data.')"
   ]
  },
  {
   "cell_type": "code",
   "execution_count": 67,
   "id": "e73f1d48",
   "metadata": {},
   "outputs": [],
   "source": [
    "from sklearn.feature_extraction.text import TfidfVectorizer\n",
    "from nltk.corpus import stopwords\n",
    "text_classifier1 = Pipeline([\n",
    "    ('tfidf', TfidfVectorizer(stop_words=stopwords.words('english'))),\n",
    "    ('classifier', KNN),\n",
    "])"
   ]
  },
  {
   "cell_type": "code",
   "execution_count": 68,
   "id": "6d30d90e",
   "metadata": {},
   "outputs": [
    {
     "name": "stdout",
     "output_type": "stream",
     "text": [
      "We got an accuracy of 67.85714285714286 % over the test data.\n"
     ]
    }
   ],
   "source": [
    "text_classifier1.fit(ds_train.data, ds_train.target)\n",
    "\n",
    "ds_test = fetch_20newsgroups(subset='test', shuffle=True)# Test data \n",
    "doc_test = ds_test.data\n",
    "predicted = text_classifier1.predict(doc_test)# Predicting our test data\n",
    "print('We got an accuracy of',np.mean(predicted == ds_test.target)*100, '% over the test data.')"
   ]
  },
  {
   "cell_type": "markdown",
   "id": "a01c0dc3",
   "metadata": {},
   "source": [
    "As can be seen above, removing the stopwords slightly increased the accuracy of the test."
   ]
  },
  {
   "cell_type": "code",
   "execution_count": 69,
   "id": "88a668f4",
   "metadata": {},
   "outputs": [
    {
     "name": "stdout",
     "output_type": "stream",
     "text": [
      "                          precision    recall  f1-score   support\n",
      "\n",
      "             alt.atheism       0.60      0.76      0.67       319\n",
      "           comp.graphics       0.52      0.63      0.57       389\n",
      " comp.os.ms-windows.misc       0.59      0.63      0.61       394\n",
      "comp.sys.ibm.pc.hardware       0.51      0.59      0.55       392\n",
      "   comp.sys.mac.hardware       0.56      0.55      0.55       385\n",
      "          comp.windows.x       0.68      0.60      0.63       395\n",
      "            misc.forsale       0.51      0.43      0.46       390\n",
      "               rec.autos       0.71      0.69      0.70       396\n",
      "         rec.motorcycles       0.80      0.85      0.82       398\n",
      "      rec.sport.baseball       0.70      0.74      0.72       397\n",
      "        rec.sport.hockey       0.80      0.87      0.84       399\n",
      "               sci.crypt       0.76      0.84      0.80       396\n",
      "         sci.electronics       0.62      0.50      0.55       393\n",
      "                 sci.med       0.83      0.58      0.68       396\n",
      "               sci.space       0.76      0.83      0.79       394\n",
      "  soc.religion.christian       0.79      0.78      0.78       398\n",
      "      talk.politics.guns       0.71      0.77      0.74       364\n",
      "   talk.politics.mideast       0.84      0.77      0.80       376\n",
      "      talk.politics.misc       0.70      0.60      0.65       310\n",
      "      talk.religion.misc       0.62      0.53      0.57       251\n",
      "\n",
      "                accuracy                           0.68      7532\n",
      "               macro avg       0.68      0.68      0.67      7532\n",
      "            weighted avg       0.68      0.68      0.68      7532\n",
      "\n"
     ]
    }
   ],
   "source": [
    "from sklearn import metrics\n",
    "print(metrics.classification_report(ds_test.target, predicted, target_names=ds_test.target_names))"
   ]
  },
  {
   "cell_type": "markdown",
   "id": "ced4072d",
   "metadata": {},
   "source": [
    "As can be seen above, the accuracy is not the best. It would be good to try an alternative classification model that is better suited to this dataset to find a better fit and increase accuracy.\n",
    "Now Multinomial Naive Bayes classifier shall be used to compare."
   ]
  },
  {
   "cell_type": "code",
   "execution_count": 71,
   "id": "12e71d32",
   "metadata": {},
   "outputs": [],
   "source": [
    "from sklearn.naive_bayes import MultinomialNB\n",
    "text_classifier2 = Pipeline([\n",
    "    ('tfidf', TfidfVectorizer(stop_words=stopwords.words('english'))),\n",
    "    ('classifier', MultinomialNB()),\n",
    "])"
   ]
  },
  {
   "cell_type": "code",
   "execution_count": 72,
   "id": "fc8cf5f1",
   "metadata": {},
   "outputs": [
    {
     "name": "stdout",
     "output_type": "stream",
     "text": [
      "We got an accuracy of 80.9612320764737 % over the test data.\n"
     ]
    }
   ],
   "source": [
    "text_classifier2.fit(ds_train.data, ds_train.target)\n",
    "\n",
    "ds_test = fetch_20newsgroups(subset='test', shuffle=True)# Test data \n",
    "doc_test = ds_test.data\n",
    "predicted = text_classifier2.predict(doc_test)# Predicting our test data\n",
    "print('We got an accuracy of',np.mean(predicted == ds_test.target)*100, '% over the test data.')"
   ]
  },
  {
   "cell_type": "code",
   "execution_count": 73,
   "id": "b28b151a",
   "metadata": {},
   "outputs": [
    {
     "name": "stdout",
     "output_type": "stream",
     "text": [
      "                          precision    recall  f1-score   support\n",
      "\n",
      "             alt.atheism       0.81      0.66      0.73       319\n",
      "           comp.graphics       0.78      0.71      0.74       389\n",
      " comp.os.ms-windows.misc       0.79      0.70      0.74       394\n",
      "comp.sys.ibm.pc.hardware       0.67      0.80      0.73       392\n",
      "   comp.sys.mac.hardware       0.87      0.81      0.84       385\n",
      "          comp.windows.x       0.87      0.79      0.82       395\n",
      "            misc.forsale       0.88      0.78      0.82       390\n",
      "               rec.autos       0.87      0.92      0.90       396\n",
      "         rec.motorcycles       0.93      0.95      0.94       398\n",
      "      rec.sport.baseball       0.92      0.91      0.92       397\n",
      "        rec.sport.hockey       0.88      0.98      0.93       399\n",
      "               sci.crypt       0.72      0.97      0.83       396\n",
      "         sci.electronics       0.83      0.64      0.72       393\n",
      "                 sci.med       0.92      0.78      0.84       396\n",
      "               sci.space       0.83      0.94      0.88       394\n",
      "  soc.religion.christian       0.60      0.96      0.74       398\n",
      "      talk.politics.guns       0.66      0.95      0.78       364\n",
      "   talk.politics.mideast       0.94      0.94      0.94       376\n",
      "      talk.politics.misc       0.94      0.50      0.65       310\n",
      "      talk.religion.misc       0.95      0.21      0.34       251\n",
      "\n",
      "                accuracy                           0.81      7532\n",
      "               macro avg       0.83      0.79      0.79      7532\n",
      "            weighted avg       0.83      0.81      0.80      7532\n",
      "\n"
     ]
    }
   ],
   "source": [
    "print(metrics.classification_report(ds_test.target, predicted, target_names=ds_test.target_names))"
   ]
  },
  {
   "cell_type": "markdown",
   "id": "654137b6",
   "metadata": {},
   "source": [
    "As can be seen above, the use of an alternative model has greatly increased the accuracy. This shows how important it is to use the correct model for the data you have."
   ]
  },
  {
   "cell_type": "code",
   "execution_count": 83,
   "id": "967298c4",
   "metadata": {},
   "outputs": [
    {
     "data": {
      "text/plain": [
       "array([[211,   0,   0,   1,   0,   1,   0,   0,   2,   1,   1,   3,   0,\n",
       "          7,   4,  72,   5,   8,   1,   2],\n",
       "       [  1, 277,  16,  13,   8,  20,   3,   4,   1,   6,   2,  21,   5,\n",
       "          0,   8,   1,   2,   1,   0,   0],\n",
       "       [  1,  18, 275,  43,   4,  13,   1,   1,   4,   4,   2,  13,   1,\n",
       "          0,   5,   8,   1,   0,   0,   0],\n",
       "       [  0,   5,  16, 314,  16,   2,  10,   4,   1,   0,   2,   3,  14,\n",
       "          0,   5,   0,   0,   0,   0,   0],\n",
       "       [  0,   3,  10,  23, 311,   2,   8,   3,   2,   3,   1,   7,   7,\n",
       "          0,   2,   1,   2,   0,   0,   0],\n",
       "       [  1,  29,  18,  11,   1, 311,   1,   0,   1,   1,   0,  11,   0,\n",
       "          1,   4,   3,   2,   0,   0,   0],\n",
       "       [  0,   2,   3,  28,  10,   1, 304,  13,   2,   2,   6,   1,   8,\n",
       "          6,   1,   2,   1,   0,   0,   0],\n",
       "       [  0,   1,   0,   3,   0,   0,   5, 365,   3,   2,   3,   2,   3,\n",
       "          1,   3,   0,   4,   0,   1,   0],\n",
       "       [  0,   0,   0,   1,   0,   0,   4,  10, 380,   0,   0,   1,   1,\n",
       "          0,   0,   0,   1,   0,   0,   0],\n",
       "       [  0,   0,   0,   0,   1,   0,   0,   4,   0, 363,  23,   0,   0,\n",
       "          0,   3,   1,   1,   1,   0,   0],\n",
       "       [  0,   0,   0,   0,   0,   0,   0,   0,   0,   4, 390,   2,   0,\n",
       "          0,   1,   2,   0,   0,   0,   0],\n",
       "       [  0,   2,   2,   0,   0,   1,   1,   4,   0,   0,   0, 383,   1,\n",
       "          1,   0,   0,   1,   0,   0,   0],\n",
       "       [  0,   6,   4,  27,   6,   0,   5,   6,   6,   1,   3,  54, 250,\n",
       "          4,  12,   6,   1,   2,   0,   0],\n",
       "       [  2,   5,   1,   2,   1,   3,   2,   0,   4,   4,   6,   7,   9,\n",
       "        307,   7,  28,   5,   3,   0,   0],\n",
       "       [  0,   3,   0,   1,   0,   4,   0,   2,   1,   0,   2,   2,   1,\n",
       "          2, 369,   4,   2,   0,   1,   0],\n",
       "       [  2,   1,   2,   1,   0,   0,   0,   0,   1,   1,   0,   0,   1,\n",
       "          0,   4, 384,   0,   0,   0,   1],\n",
       "       [  0,   0,   0,   1,   0,   0,   2,   1,   1,   1,   0,   7,   0,\n",
       "          1,   1,   3, 344,   1,   1,   0],\n",
       "       [  0,   1,   0,   0,   0,   1,   0,   0,   0,   1,   0,   2,   1,\n",
       "          0,   0,  11,   3, 354,   2,   0],\n",
       "       [  2,   0,   0,   0,   0,   0,   0,   1,   0,   0,   1,   8,   0,\n",
       "          1,  10,  12, 117,   4, 154,   0],\n",
       "       [ 42,   2,   0,   0,   0,   0,   1,   0,   0,   1,   2,   3,   0,\n",
       "          3,   5, 102,  31,   3,   4,  52]], dtype=int64)"
      ]
     },
     "execution_count": 83,
     "metadata": {},
     "output_type": "execute_result"
    }
   ],
   "source": [
    "from sklearn.metrics import confusion_matrix\n",
    "conf_met=confusion_matrix(ds_test.target, predicted)\n",
    "metrics.confusion_matrix(ds_test.target, predicted)"
   ]
  },
  {
   "cell_type": "markdown",
   "id": "3d477fd9",
   "metadata": {},
   "source": [
    "The confusion matrix in the form above is not as easy to read and therefore a heatmap should be created instaed."
   ]
  },
  {
   "cell_type": "code",
   "execution_count": 92,
   "id": "ac33131d",
   "metadata": {},
   "outputs": [
    {
     "data": {
      "image/png": "[encoded data removed]",
      "text/plain": [
       "<Figure size 1080x720 with 2 Axes>"
      ]
     },
     "metadata": {
      "needs_background": "light"
     },
     "output_type": "display_data"
    }
   ],
   "source": [
    "import matplotlib.pyplot as plt\n",
    "fig, ax = plt.subplots(figsize=(15, 10))\n",
    "labels=ds['target_names']\n",
    "sns.heatmap(conf_met, annot=True, cmap = \"Set3\", fmt =\"d\", xticklabels=labels, yticklabels=labels)\n",
    "plt.ylabel('Actual')\n",
    "plt.xlabel('Predicted')\n",
    "plt.show()"
   ]
  },
  {
   "cell_type": "markdown",
   "id": "a31a4993",
   "metadata": {},
   "source": [
    "The confusion matrix above can be used to determine where the misclassification/ mixing is occuring the most."
   ]
  },
  {
   "cell_type": "markdown",
   "id": "ab93862c",
   "metadata": {},
   "source": [
    "Further itertions cn be performed using different values for the parameters but also by trying other classification models."
   ]
  },
  {
   "cell_type": "code",
   "execution_count": null,
   "id": "a4799afa",
   "metadata": {},
   "outputs": [],
   "source": []
  }
 ],
 "metadata": {
  "kernelspec": {
   "display_name": "Python 3",
   "language": "python",
   "name": "python3"
  },
  "language_info": {
   "codemirror_mode": {
    "name": "ipython",
    "version": 3
   },
   "file_extension": ".py",
   "mimetype": "text/x-python",
   "name": "python",
   "nbconvert_exporter": "python",
   "pygments_lexer": "ipython3",
   "version": "3.8.8"
  }
 },
 "nbformat": 4,
 "nbformat_minor": 5
}
