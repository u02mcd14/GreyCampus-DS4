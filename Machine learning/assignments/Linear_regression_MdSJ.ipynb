{
 "cells": [
  {
   "cell_type": "markdown",
   "id": "1a7a1c40",
   "metadata": {},
   "source": [
    "# Linear regression problem statement:\n",
    "\n",
    "Let us consider a data set where we have a value of response y for every feature x: \n",
    "\n",
    "Data Set:\n",
    "\n",
    "x=np.array([1,2,3,4,5,6,7,8,9,10])\n",
    "\n",
    "y = np.array([100,200,500,600,900,920,940,980,1100,1500])\n",
    "\n",
    "Agenda:\n",
    "\n",
    "The task is to find a line of best fit so that we can predict the response for any new feature values. (if a value of x is not present in the dataset). This line is called a regression line. The equation of regression line is represented as:\n",
    "\n",
    "Y equals m x plus c   or\n",
    "\n",
    "Y equals b subscript 0 plus b subscript 1 left parenthesis x right parenthesis plus b subscript 2 left parenthesis x right parenthesis"
   ]
  },
  {
   "cell_type": "code",
   "execution_count": 3,
   "id": "b22faf1f",
   "metadata": {},
   "outputs": [],
   "source": [
    "import numpy as np\n",
    "from matplotlib import pyplot as plt\n",
    "import pandas as pd"
   ]
  },
  {
   "cell_type": "code",
   "execution_count": 7,
   "id": "fb3e107f",
   "metadata": {},
   "outputs": [],
   "source": [
    "x=np.array([1,2,3,4,5,6,7,8,9,10]).reshape((-1, 1))\n",
    "y = np.array([100,200,500,600,900,920,940,980,1100,1500])"
   ]
  },
  {
   "cell_type": "code",
   "execution_count": 18,
   "id": "24cd6dd1",
   "metadata": {},
   "outputs": [
    {
     "data": {
      "image/png": "[encoded data removed]",
      "text/plain": [
       "<Figure size 432x288 with 1 Axes>"
      ]
     },
     "metadata": {
      "needs_background": "light"
     },
     "output_type": "display_data"
    }
   ],
   "source": [
    "plt.title(\"correlation between x and y\")\n",
    "plt.scatter(x, y)\n",
    "plt.xlabel(\"x\")\n",
    "plt.ylabel(\"y\")\n",
    "plt.show()"
   ]
  },
  {
   "cell_type": "markdown",
   "id": "77f00d5a",
   "metadata": {},
   "source": [
    "Above we can see that the data seems to follow linear "
   ]
  },
  {
   "cell_type": "code",
   "execution_count": 1,
   "id": "5bb8b456",
   "metadata": {},
   "outputs": [],
   "source": [
    "from sklearn.linear_model import LinearRegression\n",
    "from sklearn.metrics import mean_squared_error\n",
    "from sklearn.metrics import r2_score"
   ]
  },
  {
   "cell_type": "code",
   "execution_count": 10,
   "id": "6245225a",
   "metadata": {},
   "outputs": [],
   "source": [
    "lin_model = LinearRegression().fit(x,y)"
   ]
  },
  {
   "cell_type": "code",
   "execution_count": 11,
   "id": "773a5076",
   "metadata": {},
   "outputs": [
    {
     "name": "stdout",
     "output_type": "stream",
     "text": [
      "coefficient of determination: 0.9280272348680095\n"
     ]
    }
   ],
   "source": [
    "r_2 = lin_model.score(x, y)\n",
    "print('coefficient of determination:', r_2)"
   ]
  },
  {
   "cell_type": "code",
   "execution_count": 14,
   "id": "f49008cd",
   "metadata": {},
   "outputs": [
    {
     "name": "stdout",
     "output_type": "stream",
     "text": [
      "y intercept (c): 29.333333333333485\n",
      "slope (m): [135.39393939]\n"
     ]
    }
   ],
   "source": [
    "print('y intercept (c):',lin_model.intercept_)\n",
    "print('slope (m):', lin_model.coef_)"
   ]
  },
  {
   "cell_type": "code",
   "execution_count": 28,
   "id": "74717515",
   "metadata": {},
   "outputs": [
    {
     "name": "stdout",
     "output_type": "stream",
     "text": [
      "predicted response:\n",
      "[ 164.72727273  300.12121212  435.51515152  570.90909091  706.3030303\n",
      "  841.6969697   977.09090909 1112.48484848 1247.87878788 1383.27272727]\n"
     ]
    }
   ],
   "source": [
    "y_pred = lin_model.predict(x)\n",
    "print('predicted response:', y_pred, sep='\\n')"
   ]
  },
  {
   "cell_type": "code",
   "execution_count": 29,
   "id": "23b17b31",
   "metadata": {},
   "outputs": [
    {
     "data": {
      "image/png": "[encoded data removed]",
      "text/plain": [
       "<Figure size 432x288 with 1 Axes>"
      ]
     },
     "metadata": {
      "needs_background": "light"
     },
     "output_type": "display_data"
    }
   ],
   "source": [
    "plt.scatter(x, y)\n",
    "plt.plot(x, y_pred, color='pink')\n",
    "plt.show()"
   ]
  },
  {
   "cell_type": "code",
   "execution_count": 30,
   "id": "8d4a458c",
   "metadata": {},
   "outputs": [
    {
     "name": "stdout",
     "output_type": "stream",
     "text": [
      "[[0]\n",
      " [1]\n",
      " [2]\n",
      " [3]\n",
      " [4]\n",
      " [5]\n",
      " [6]\n",
      " [7]\n",
      " [8]\n",
      " [9]]\n"
     ]
    }
   ],
   "source": [
    "x_new = np.arange(10).reshape((-1, 1))\n",
    "print(x_new)"
   ]
  },
  {
   "cell_type": "code",
   "execution_count": 31,
   "id": "7cd0ec74",
   "metadata": {},
   "outputs": [
    {
     "name": "stdout",
     "output_type": "stream",
     "text": [
      "[  29.33333333  164.72727273  300.12121212  435.51515152  570.90909091\n",
      "  706.3030303   841.6969697   977.09090909 1112.48484848 1247.87878788]\n"
     ]
    }
   ],
   "source": [
    "y_new = lin_model.predict(x_new)\n",
    "print(y_new)"
   ]
  },
  {
   "cell_type": "code",
   "execution_count": 34,
   "id": "f3ace28b",
   "metadata": {},
   "outputs": [
    {
     "data": {
      "image/png": "[encoded data removed]",
      "text/plain": [
       "<Figure size 432x288 with 1 Axes>"
      ]
     },
     "metadata": {
      "needs_background": "light"
     },
     "output_type": "display_data"
    }
   ],
   "source": [
    "plt.scatter(x, y, color='red')\n",
    "plt.scatter(x_new, y_new, color='blue')\n",
    "plt.plot(x, y_pred, color='pink')\n",
    "plt.show()"
   ]
  },
  {
   "cell_type": "code",
   "execution_count": null,
   "id": "2e9714db",
   "metadata": {},
   "outputs": [],
   "source": []
  }
 ],
 "metadata": {
  "kernelspec": {
   "display_name": "Python 3",
   "language": "python",
   "name": "python3"
  },
  "language_info": {
   "codemirror_mode": {
    "name": "ipython",
    "version": 3
   },
   "file_extension": ".py",
   "mimetype": "text/x-python",
   "name": "python",
   "nbconvert_exporter": "python",
   "pygments_lexer": "ipython3",
   "version": "3.8.8"
  }
 },
 "nbformat": 4,
 "nbformat_minor": 5
}
